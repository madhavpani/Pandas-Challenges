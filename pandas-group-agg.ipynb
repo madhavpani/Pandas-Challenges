{
 "cells": [
  {
   "cell_type": "code",
   "execution_count": 1,
   "id": "4514a023-c2b7-44f4-8bb5-a391c4064a45",
   "metadata": {},
   "outputs": [],
   "source": [
    "# import pandas library with alias pd\n",
    "import pandas as pd"
   ]
  },
  {
   "cell_type": "markdown",
   "id": "17479a5d-5dc1-43df-b058-5bba1a6b165f",
   "metadata": {},
   "source": [
    "1. Write a Pandas program to split the following dataframe into groups based on school code. Also check the type of GroupBy object.\r\n"
   ]
  },
  {
   "cell_type": "code",
   "execution_count": 5,
   "id": "cc40c9ba-f147-49be-b1a7-8c9c819f6fb3",
   "metadata": {},
   "outputs": [
    {
     "name": "stdout",
     "output_type": "stream",
     "text": [
      "\n",
      "\n",
      "s001\n",
      "   school_code class            name date_Of_Birth   age  height  weight  \\\n",
      "S1        s001     V  Alberto Franco     15/05/2002   12     173      35   \n",
      "S4        s001    VI    Eesha Hinton     25/09/1998   13     167      30   \n",
      "\n",
      "    address  \n",
      "S1  street1  \n",
      "S4  street1  \n",
      "\n",
      "\n",
      "s002\n",
      "   school_code class          name date_Of_Birth   age  height  weight  \\\n",
      "S2        s002     V  Gino Mcneill     17/05/2002   12     192      32   \n",
      "S5        s002     V  Gino Mcneill     11/05/2002   14     151      31   \n",
      "\n",
      "    address  \n",
      "S2  street2  \n",
      "S5  street2  \n",
      "\n",
      "\n",
      "s003\n",
      "   school_code class         name date_Of_Birth   age  height  weight  address\n",
      "S3        s003    VI  Ryan Parkes     16/02/1999   13     186      33  street3\n",
      "\n",
      "\n",
      "s004\n",
      "   school_code class          name date_Of_Birth   age  height  weight  \\\n",
      "S6        s004    VI  David Parkes     15/09/1997   12     159      32   \n",
      "\n",
      "    address  \n",
      "S6  street4  \n"
     ]
    }
   ],
   "source": [
    "df = pd.DataFrame({\n",
    "    'school_code': ['s001','s002','s003','s001','s002','s004'],\n",
    "    'class': ['V', 'V', 'VI', 'VI', 'V', 'VI'],\n",
    "    'name': ['Alberto Franco','Gino Mcneill','Ryan Parkes', 'Eesha Hinton', 'Gino Mcneill', 'David Parkes'],\n",
    "    'date_Of_Birth ': ['15/05/2002','17/05/2002','16/02/1999','25/09/1998','11/05/2002','15/09/1997'],\n",
    "    'age': [12, 12, 13, 13, 14, 12],\n",
    "    'height': [173, 192, 186, 167, 151, 159],\n",
    "    'weight': [35, 32, 33, 30, 31, 32],\n",
    "    'address': ['street1', 'street2', 'street3', 'street1', 'street2', 'street4']},\n",
    "    index=['S1', 'S2', 'S3', 'S4', 'S5', 'S6'])\n",
    "\n",
    "# df.groupby(by=[col]): This method is used to create groups with respect to a column in the df.\n",
    "result = df.groupby(by='school_code')\n",
    "for name, group in result:\n",
    "    print('\\n')\n",
    "    print(name)\n",
    "    print(group)"
   ]
  },
  {
   "cell_type": "markdown",
   "id": "3c4bbb9d-0e9f-434b-b57b-690f7be232ee",
   "metadata": {},
   "source": [
    "2. Write a Pandas program to split the following dataframe by school code and get mean, min, and max value of age for each school.\r\n"
   ]
  },
  {
   "cell_type": "code",
   "execution_count": 8,
   "id": "0b177313-7381-43b7-95a0-31151f210195",
   "metadata": {},
   "outputs": [
    {
     "name": "stdout",
     "output_type": "stream",
     "text": [
      "\n",
      "Name:  s001\n",
      "Group: \n",
      " S1    12\n",
      "S4    13\n",
      "Name: age, dtype: int64\n",
      "Mean:  12.5\n",
      "Min:  12\n",
      "Max:  13\n",
      "\n",
      "Name:  s002\n",
      "Group: \n",
      " S2    12\n",
      "S5    14\n",
      "Name: age, dtype: int64\n",
      "Mean:  13.0\n",
      "Min:  12\n",
      "Max:  14\n",
      "\n",
      "Name:  s003\n",
      "Group: \n",
      " S3    13\n",
      "Name: age, dtype: int64\n",
      "Mean:  13.0\n",
      "Min:  13\n",
      "Max:  13\n",
      "\n",
      "Name:  s004\n",
      "Group: \n",
      " S6    12\n",
      "Name: age, dtype: int64\n",
      "Mean:  12.0\n",
      "Min:  12\n",
      "Max:  12\n"
     ]
    }
   ],
   "source": [
    "df = pd.DataFrame({\n",
    "    'school_code': ['s001','s002','s003','s001','s002','s004'],\n",
    "    'class': ['V', 'V', 'VI', 'VI', 'V', 'VI'],\n",
    "    'name': ['Alberto Franco','Gino Mcneill','Ryan Parkes', 'Eesha Hinton', 'Gino Mcneill', 'David Parkes'],\n",
    "    'date_Of_Birth ': ['15/05/2002','17/05/2002','16/02/1999','25/09/1998','11/05/2002','15/09/1997'],\n",
    "    'age': [12, 12, 13, 13, 14, 12],\n",
    "    'height': [173, 192, 186, 167, 151, 159],\n",
    "    'weight': [35, 32, 33, 30, 31, 32],\n",
    "    'address': ['street1', 'street2', 'street3', 'street1', 'street2', 'street4']},\n",
    "    index=['S1', 'S2', 'S3', 'S4', 'S5', 'S6'])\n",
    "\n",
    "grouping = df.groupby(by='school_code')\n",
    "\n",
    "for name, group in grouping:\n",
    "    print('\\nName: ', name)\n",
    "    print('Group: \\n', group['age'])\n",
    "    print('Mean: ', group['age'].mean())\n",
    "    print('Min: ', group['age'].min())\n",
    "    print('Max: ', group['age'].max())"
   ]
  },
  {
   "cell_type": "markdown",
   "id": "c8d2e654-3097-4d84-a9a6-65019a30c013",
   "metadata": {},
   "source": [
    "3. Write a Pandas program to split the following given dataframe into groups based on school code and class.\r\n"
   ]
  },
  {
   "cell_type": "code",
   "execution_count": 9,
   "id": "3f0ccb0f-21e7-4dad-9638-6a24196c0ea6",
   "metadata": {},
   "outputs": [
    {
     "name": "stdout",
     "output_type": "stream",
     "text": [
      "\n",
      "Name:  ('s001', 'V')\n",
      "Group: \n",
      "   school_code class            name date_Of_Birth   age  height  weight  \\\n",
      "S1        s001     V  Alberto Franco     15/05/2002   12     173      35   \n",
      "\n",
      "    address  \n",
      "S1  street1  \n",
      "\n",
      "Name:  ('s001', 'VI')\n",
      "Group: \n",
      "   school_code class          name date_Of_Birth   age  height  weight  \\\n",
      "S4        s001    VI  Eesha Hinton     25/09/1998   13     167      30   \n",
      "\n",
      "    address  \n",
      "S4  street1  \n",
      "\n",
      "Name:  ('s002', 'V')\n",
      "Group: \n",
      "   school_code class          name date_Of_Birth   age  height  weight  \\\n",
      "S2        s002     V  Gino Mcneill     17/05/2002   12     192      32   \n",
      "S5        s002     V  Gino Mcneill     11/05/2002   14     151      31   \n",
      "\n",
      "    address  \n",
      "S2  street2  \n",
      "S5  street2  \n",
      "\n",
      "Name:  ('s003', 'VI')\n",
      "Group: \n",
      "   school_code class         name date_Of_Birth   age  height  weight  address\n",
      "S3        s003    VI  Ryan Parkes     16/02/1999   13     186      33  street3\n",
      "\n",
      "Name:  ('s004', 'VI')\n",
      "Group: \n",
      "   school_code class          name date_Of_Birth   age  height  weight  \\\n",
      "S6        s004    VI  David Parkes     15/09/1997   12     159      32   \n",
      "\n",
      "    address  \n",
      "S6  street4  \n"
     ]
    }
   ],
   "source": [
    "df = pd.DataFrame({\n",
    "    'school_code': ['s001','s002','s003','s001','s002','s004'],\n",
    "    'class': ['V', 'V', 'VI', 'VI', 'V', 'VI'],\n",
    "    'name': ['Alberto Franco','Gino Mcneill','Ryan Parkes', 'Eesha Hinton', 'Gino Mcneill', 'David Parkes'],\n",
    "    'date_Of_Birth ': ['15/05/2002','17/05/2002','16/02/1999','25/09/1998','11/05/2002','15/09/1997'],\n",
    "    'age': [12, 12, 13, 13, 14, 12],\n",
    "    'height': [173, 192, 186, 167, 151, 159],\n",
    "    'weight': [35, 32, 33, 30, 31, 32],\n",
    "    'address': ['street1', 'street2', 'street3', 'street1', 'street2', 'street4']},\n",
    "    index=['S1', 'S2', 'S3', 'S4', 'S5', 'S6'])\n",
    "\n",
    "grouping = df.groupby(by=['school_code', 'class'])\n",
    "for name, group in grouping:\n",
    "    print('\\nName: ', name)\n",
    "    print('Group: ')\n",
    "    print(group)"
   ]
  },
  {
   "cell_type": "markdown",
   "id": "99c72ca7-dbab-444a-9a91-58fc773bb96e",
   "metadata": {},
   "source": [
    "4. Write a Pandas program to split the following given dataframe into groups based on school code and cast grouping as a list.\r\n"
   ]
  },
  {
   "cell_type": "code",
   "execution_count": 10,
   "id": "7c0b7b15-5ade-4f8d-9715-e73046621034",
   "metadata": {},
   "outputs": [
    {
     "data": {
      "text/plain": [
       "[('s001',\n",
       "     school_code class            name date_Of_Birth   age  height  weight  \\\n",
       "  S1        s001     V  Alberto Franco     15/05/2002   12     173      35   \n",
       "  S4        s001    VI    Eesha Hinton     25/09/1998   13     167      30   \n",
       "  \n",
       "      address  \n",
       "  S1  street1  \n",
       "  S4  street1  ),\n",
       " ('s002',\n",
       "     school_code class          name date_Of_Birth   age  height  weight  \\\n",
       "  S2        s002     V  Gino Mcneill     17/05/2002   12     192      32   \n",
       "  S5        s002     V  Gino Mcneill     11/05/2002   14     151      31   \n",
       "  \n",
       "      address  \n",
       "  S2  street2  \n",
       "  S5  street2  ),\n",
       " ('s003',\n",
       "     school_code class         name date_Of_Birth   age  height  weight  address\n",
       "  S3        s003    VI  Ryan Parkes     16/02/1999   13     186      33  street3),\n",
       " ('s004',\n",
       "     school_code class          name date_Of_Birth   age  height  weight  \\\n",
       "  S6        s004    VI  David Parkes     15/09/1997   12     159      32   \n",
       "  \n",
       "      address  \n",
       "  S6  street4  )]"
      ]
     },
     "execution_count": 10,
     "metadata": {},
     "output_type": "execute_result"
    }
   ],
   "source": [
    "df = pd.DataFrame({\n",
    "    'school_code': ['s001','s002','s003','s001','s002','s004'],\n",
    "    'class': ['V', 'V', 'VI', 'VI', 'V', 'VI'],\n",
    "    'name': ['Alberto Franco','Gino Mcneill','Ryan Parkes', 'Eesha Hinton', 'Gino Mcneill', 'David Parkes'],\n",
    "    'date_Of_Birth ': ['15/05/2002','17/05/2002','16/02/1999','25/09/1998','11/05/2002','15/09/1997'],\n",
    "    'age': [12, 12, 13, 13, 14, 12],\n",
    "    'height': [173, 192, 186, 167, 151, 159],\n",
    "    'weight': [35, 32, 33, 30, 31, 32],\n",
    "    'address': ['street1', 'street2', 'street3', 'street1', 'street2', 'street4']},\n",
    "    index=['S1', 'S2', 'S3', 'S4', 'S5', 'S6'])\n",
    "\n",
    "grouping = df.groupby(by='school_code')\n",
    "list(grouping)"
   ]
  },
  {
   "cell_type": "markdown",
   "id": "91f9e981-311e-4a54-9fe4-98de836c2c7a",
   "metadata": {},
   "source": [
    "5. Write a Pandas program to split the following given dataframe into groups based on school code and call a specific group with the name of the group.\r\n"
   ]
  },
  {
   "cell_type": "code",
   "execution_count": 11,
   "id": "04f285fd-747e-454e-a255-133d04137a73",
   "metadata": {},
   "outputs": [
    {
     "data": {
      "text/html": [
       "<div>\n",
       "<style scoped>\n",
       "    .dataframe tbody tr th:only-of-type {\n",
       "        vertical-align: middle;\n",
       "    }\n",
       "\n",
       "    .dataframe tbody tr th {\n",
       "        vertical-align: top;\n",
       "    }\n",
       "\n",
       "    .dataframe thead th {\n",
       "        text-align: right;\n",
       "    }\n",
       "</style>\n",
       "<table border=\"1\" class=\"dataframe\">\n",
       "  <thead>\n",
       "    <tr style=\"text-align: right;\">\n",
       "      <th></th>\n",
       "      <th>school_code</th>\n",
       "      <th>class</th>\n",
       "      <th>name</th>\n",
       "      <th>date_Of_Birth</th>\n",
       "      <th>age</th>\n",
       "      <th>height</th>\n",
       "      <th>weight</th>\n",
       "      <th>address</th>\n",
       "    </tr>\n",
       "  </thead>\n",
       "  <tbody>\n",
       "    <tr>\n",
       "      <th>S1</th>\n",
       "      <td>s001</td>\n",
       "      <td>V</td>\n",
       "      <td>Alberto Franco</td>\n",
       "      <td>15/05/2002</td>\n",
       "      <td>12</td>\n",
       "      <td>173</td>\n",
       "      <td>35</td>\n",
       "      <td>street1</td>\n",
       "    </tr>\n",
       "    <tr>\n",
       "      <th>S4</th>\n",
       "      <td>s001</td>\n",
       "      <td>VI</td>\n",
       "      <td>Eesha Hinton</td>\n",
       "      <td>25/09/1998</td>\n",
       "      <td>13</td>\n",
       "      <td>167</td>\n",
       "      <td>30</td>\n",
       "      <td>street1</td>\n",
       "    </tr>\n",
       "  </tbody>\n",
       "</table>\n",
       "</div>"
      ],
      "text/plain": [
       "   school_code class            name date_Of_Birth   age  height  weight  \\\n",
       "S1        s001     V  Alberto Franco     15/05/2002   12     173      35   \n",
       "S4        s001    VI    Eesha Hinton     25/09/1998   13     167      30   \n",
       "\n",
       "    address  \n",
       "S1  street1  \n",
       "S4  street1  "
      ]
     },
     "execution_count": 11,
     "metadata": {},
     "output_type": "execute_result"
    }
   ],
   "source": [
    "df = pd.DataFrame({\n",
    "    'school_code': ['s001','s002','s003','s001','s002','s004'],\n",
    "    'class': ['V', 'V', 'VI', 'VI', 'V', 'VI'],\n",
    "    'name': ['Alberto Franco','Gino Mcneill','Ryan Parkes', 'Eesha Hinton', 'Gino Mcneill', 'David Parkes'],\n",
    "    'date_Of_Birth ': ['15/05/2002','17/05/2002','16/02/1999','25/09/1998','11/05/2002','15/09/1997'],\n",
    "    'age': [12, 12, 13, 13, 14, 12],\n",
    "    'height': [173, 192, 186, 167, 151, 159],\n",
    "    'weight': [35, 32, 33, 30, 31, 32],\n",
    "    'address': ['street1', 'street2', 'street3', 'street1', 'street2', 'street4']},\n",
    "    index=['S1', 'S2', 'S3', 'S4', 'S5', 'S6'])\n",
    "\n",
    "grouping = df.groupby(by='school_code')\n",
    "\n",
    "# df.groupby(by=col).get_group(name) : This method returns the group with the name specified.\n",
    "grouping.get_group('s001')"
   ]
  },
  {
   "cell_type": "markdown",
   "id": "053f8bbb-89d9-4c6c-a33d-895956cedb43",
   "metadata": {},
   "source": [
    "6. Using the following dataset find the mean, min, and max values of purchase amount (purch_amt) group by customer id (customer_id)."
   ]
  },
  {
   "cell_type": "code",
   "execution_count": 12,
   "id": "8411066b-36ef-4090-9597-483478d1719e",
   "metadata": {},
   "outputs": [
    {
     "name": "stdout",
     "output_type": "stream",
     "text": [
      "\n",
      "Name:  3001\n",
      "   ord_no  purch_amt    ord_date  customer_id  salesman_id\n",
      "1   70009     270.65  2012-09-10         3001         5005\n",
      "mean:  270.65\n",
      "max:  270.65\n",
      "min:  270.65\n",
      "\n",
      "Name:  3002\n",
      "    ord_no  purch_amt    ord_date  customer_id  salesman_id\n",
      "2    70002      65.26  2012-10-05         3002         5001\n",
      "6    70008    5760.00  2012-09-10         3002         5001\n",
      "11   70013    3045.60  2012-04-25         3002         5001\n",
      "mean:  2956.9533333333334\n",
      "max:  5760.0\n",
      "min:  65.26\n",
      "\n",
      "Name:  3003\n",
      "    ord_no  purch_amt    ord_date  customer_id  salesman_id\n",
      "10   70011      75.29  2012-08-17         3003         5007\n",
      "mean:  75.29\n",
      "max:  75.29\n",
      "min:  75.29\n",
      "\n",
      "Name:  3004\n",
      "   ord_no  purch_amt    ord_date  customer_id  salesman_id\n",
      "7   70010    1983.43  2012-10-10         3004         5006\n",
      "mean:  1983.43\n",
      "max:  1983.43\n",
      "min:  1983.43\n",
      "\n",
      "Name:  3005\n",
      "   ord_no  purch_amt    ord_date  customer_id  salesman_id\n",
      "0   70001      150.5  2012-10-05         3005         5002\n",
      "4   70007      948.5  2012-09-10         3005         5002\n",
      "mean:  549.5\n",
      "max:  948.5\n",
      "min:  150.5\n",
      "\n",
      "Name:  3007\n",
      "   ord_no  purch_amt    ord_date  customer_id  salesman_id\n",
      "5   70005     2400.6  2012-07-27         3007         5001\n",
      "mean:  2400.6\n",
      "max:  2400.6\n",
      "min:  2400.6\n",
      "\n",
      "Name:  3008\n",
      "   ord_no  purch_amt    ord_date  customer_id  salesman_id\n",
      "9   70012     250.45  2012-06-27         3008         5002\n",
      "mean:  250.45\n",
      "max:  250.45\n",
      "min:  250.45\n",
      "\n",
      "Name:  3009\n",
      "   ord_no  purch_amt    ord_date  customer_id  salesman_id\n",
      "3   70004      110.5  2012-08-17         3009         5003\n",
      "8   70003     2480.4  2012-10-10         3009         5003\n",
      "mean:  1295.45\n",
      "max:  2480.4\n",
      "min:  110.5\n"
     ]
    }
   ],
   "source": [
    "df = pd.DataFrame({\n",
    "'ord_no':[70001,70009,70002,70004,70007,70005,70008,70010,70003,70012,70011,70013],\n",
    "'purch_amt':[150.5,270.65,65.26,110.5,948.5,2400.6,5760,1983.43,2480.4,250.45, 75.29,3045.6],\n",
    "'ord_date': ['2012-10-05','2012-09-10','2012-10-05','2012-08-17','2012-09-10','2012-07-27','2012-09-10','2012-10-10','2012-10-10','2012-06-27','2012-08-17','2012-04-25'],\n",
    "'customer_id':[3005,3001,3002,3009,3005,3007,3002,3004,3009,3008,3003,3002],\n",
    "'salesman_id': [5002,5005,5001,5003,5002,5001,5001,5006,5003,5002,5007,5001]})\n",
    "\n",
    "# lets create group with customer_id column and save in variable G\n",
    "g = df.groupby(by='customer_id')\n",
    "for name, group in g:\n",
    "    print('\\nName: ', name)\n",
    "    print(group)\n",
    "    print('mean: ', group['purch_amt'].mean())\n",
    "    print('max: ', group['purch_amt'].max())\n",
    "    print('min: ', group['purch_amt'].min())"
   ]
  },
  {
   "cell_type": "markdown",
   "id": "664cf69b-2e61-4248-87d8-15c5ca59000b",
   "metadata": {},
   "source": [
    "7. Write a Pandas program to split a dataset to group by two columns and then sort the aggregated results within the groups.\n",
    "In the following dataset group on 'customer_id', 'salesman_id' and then sort sum of purch_amt within the groups."
   ]
  },
  {
   "cell_type": "code",
   "execution_count": 21,
   "id": "84c4ab77-78a1-416f-bbb9-639d53a74c23",
   "metadata": {},
   "outputs": [
    {
     "data": {
      "text/plain": [
       "customer_id  salesman_id\n",
       "3002         5001           8870.86\n",
       "3009         5003           2590.90\n",
       "3007         5001           2400.60\n",
       "3004         5006           1983.43\n",
       "3005         5002           1099.00\n",
       "3001         5005            270.65\n",
       "3008         5002            250.45\n",
       "3003         5007             75.29\n",
       "Name: purch_amt, dtype: float64"
      ]
     },
     "execution_count": 21,
     "metadata": {},
     "output_type": "execute_result"
    }
   ],
   "source": [
    "df = pd.DataFrame({\n",
    "'ord_no':[70001,70009,70002,70004,70007,70005,70008,70010,70003,70012,70011,70013],\n",
    "'purch_amt':[150.5,270.65,65.26,110.5,948.5,2400.6,5760,1983.43,2480.4,250.45, 75.29,3045.6],\n",
    "'ord_date': ['2012-10-05','2012-09-10','2012-10-05','2012-08-17','2012-09-10','2012-07-27','2012-09-10','2012-10-10','2012-10-10','2012-06-27','2012-08-17','2012-04-25'],\n",
    "'customer_id':[3005,3001,3002,3009,3005,3007,3002,3004,3009,3008,3003,3002],\n",
    "'salesman_id': [5002,5005,5001,5003,5002,5001,5001,5006,5003,5002,5007,5001]})\n",
    "\n",
    "# lets create the group using two cols specified and then aggregate in one column by calculating the sum\n",
    "df_agg = df.groupby(['customer_id','salesman_id']).agg({'purch_amt':'sum'})\n",
    "df_agg['purch_amt'].nlargest(20)"
   ]
  },
  {
   "cell_type": "markdown",
   "id": "0e5ae390-6e41-4cec-b73a-2f7064372790",
   "metadata": {},
   "source": [
    "8. Write a Pandas program to split the following dataframe into groups based on customer id and create a list of order date for each group.\r\n"
   ]
  },
  {
   "cell_type": "code",
   "execution_count": 23,
   "id": "a119c86a-c334-4895-bae4-37600c0b5fb2",
   "metadata": {},
   "outputs": [
    {
     "data": {
      "text/plain": [
       "customer_id\n",
       "3001    [2012-10-05, 2012-09-10, 2012-08-17, 2012-07-2...\n",
       "3005    [2012-10-05, 2012-09-10, 2012-09-10, 2012-10-1...\n",
       "Name: ord_date, dtype: object"
      ]
     },
     "execution_count": 23,
     "metadata": {},
     "output_type": "execute_result"
    }
   ],
   "source": [
    "df = pd.DataFrame({\n",
    "'ord_no':[70001,70009,70002,70004,70007,70005,70008,70010,70003,70012,70011,70013],\n",
    "'purch_amt':[150.5,270.65,65.26,110.5,948.5,2400.6,5760,1983.43,2480.4,250.45, 75.29,3045.6],\n",
    "'ord_date': ['2012-10-05','2012-09-10','2012-10-05','2012-08-17','2012-09-10','2012-07-27','2012-09-10','2012-10-10','2012-10-10','2012-06-27','2012-08-17','2012-04-25'],\n",
    "'customer_id':[3001,3001,3005,3001,3005,3001,3005,3001,3005,3001,3005,3005],\n",
    "'salesman_id': [5002,5005,5001,5003,5002,5001,5001,5006,5003,5002,5007,5001]})\n",
    "\n",
    "# lets create the group and save it in variable g\n",
    "# apply() : This method is used to apply other properties to the groups\n",
    "g = df.groupby(by='customer_id')['ord_date'].apply(list)\n",
    "g"
   ]
  },
  {
   "cell_type": "markdown",
   "id": "bc9e8afa-c98e-461b-90b5-98f5c5a5a88a",
   "metadata": {},
   "source": [
    "9. Write a Pandas program to split the following dataframe into groups based on first column and set other column values into a list of values.\r\n"
   ]
  },
  {
   "cell_type": "code",
   "execution_count": 27,
   "id": "771c822b-5a05-4e4f-8663-234b8d8161e5",
   "metadata": {},
   "outputs": [
    {
     "data": {
      "text/html": [
       "<div>\n",
       "<style scoped>\n",
       "    .dataframe tbody tr th:only-of-type {\n",
       "        vertical-align: middle;\n",
       "    }\n",
       "\n",
       "    .dataframe tbody tr th {\n",
       "        vertical-align: top;\n",
       "    }\n",
       "\n",
       "    .dataframe thead th {\n",
       "        text-align: right;\n",
       "    }\n",
       "</style>\n",
       "<table border=\"1\" class=\"dataframe\">\n",
       "  <thead>\n",
       "    <tr style=\"text-align: right;\">\n",
       "      <th></th>\n",
       "      <th>Y</th>\n",
       "      <th>Z</th>\n",
       "    </tr>\n",
       "    <tr>\n",
       "      <th>X</th>\n",
       "      <th></th>\n",
       "      <th></th>\n",
       "    </tr>\n",
       "  </thead>\n",
       "  <tbody>\n",
       "    <tr>\n",
       "      <th>10</th>\n",
       "      <td>[10, 15, 11, 14]</td>\n",
       "      <td>[22, 20, 18, 0]</td>\n",
       "    </tr>\n",
       "    <tr>\n",
       "      <th>20</th>\n",
       "      <td>[20]</td>\n",
       "      <td>[20]</td>\n",
       "    </tr>\n",
       "    <tr>\n",
       "      <th>30</th>\n",
       "      <td>[21, 12]</td>\n",
       "      <td>[13, 10]</td>\n",
       "    </tr>\n",
       "  </tbody>\n",
       "</table>\n",
       "</div>"
      ],
      "text/plain": [
       "                   Y                Z\n",
       "X                                    \n",
       "10  [10, 15, 11, 14]  [22, 20, 18, 0]\n",
       "20              [20]             [20]\n",
       "30          [21, 12]         [13, 10]"
      ]
     },
     "execution_count": 27,
     "metadata": {},
     "output_type": "execute_result"
    }
   ],
   "source": [
    "df = pd.DataFrame( {'X' : [10, 10, 10, 20, 30, 30, 10], \n",
    "                    'Y' : [10, 15, 11, 20, 21, 12, 14], \n",
    "                    'Z' : [22, 20, 18, 20, 13, 10, 0]})\n",
    "\n",
    "g = df.groupby(by='X').aggregate(lambda x: x.unique().tolist())\n",
    "g"
   ]
  },
  {
   "cell_type": "markdown",
   "id": "ea242295-45f0-48fc-826f-e4905d199d35",
   "metadata": {},
   "source": [
    "10. Write a Pandas program to split the following dataframe into groups based on all columns and calculate Groupby value counts on the dataframe.\r\n"
   ]
  },
  {
   "cell_type": "code",
   "execution_count": 30,
   "id": "84756d03-eb15-46e4-83b2-8dd2551496be",
   "metadata": {},
   "outputs": [
    {
     "data": {
      "text/plain": [
       "id  type  book   \n",
       "1   10    Math       1\n",
       "    11    Physics    1\n",
       "    12    Physics    1\n",
       "    20    Math       1\n",
       "2   14    English    1\n",
       "    15    English    1\n",
       "    21    English    1\n",
       "dtype: int64"
      ]
     },
     "execution_count": 30,
     "metadata": {},
     "output_type": "execute_result"
    }
   ],
   "source": [
    "df = pd.DataFrame( {'id' : [1, 2, 1, 1, 2, 1, 2], \n",
    "                    'type' : [10, 15, 11, 20, 21, 12, 14], \n",
    "                    'book' : ['Math','English','Physics','Math','English','Physics','English']})\n",
    "\n",
    "g = df.groupby(by=['id', 'type', 'book']).size()\n",
    "g"
   ]
  },
  {
   "cell_type": "markdown",
   "id": "a060d8ec-1332-4f36-833d-abd3ac703b8a",
   "metadata": {},
   "source": [
    "11. Write a Pandas program to split the following dataframe into groups and count unique values of 'value' column.\r\n"
   ]
  },
  {
   "cell_type": "code",
   "execution_count": 34,
   "id": "66196ab3-9bc3-4ea3-b9d9-e284daa1ebb1",
   "metadata": {},
   "outputs": [
    {
     "data": {
      "text/plain": [
       "value\n",
       "a    3\n",
       "b    2\n",
       "Name: id, dtype: int64"
      ]
     },
     "execution_count": 34,
     "metadata": {},
     "output_type": "execute_result"
    }
   ],
   "source": [
    "df = pd.DataFrame({\n",
    "    'id': [1, 1, 2, 3, 3, 4, 4, 4],\n",
    "    'value': ['a', 'a', 'b', None, 'a', 'a', None, 'b']\n",
    "})\n",
    "\n",
    "# nunique() : this method searches for unique values which are not Null or None.\n",
    "g = df.groupby(by='value')['id'].nunique()\n",
    "g"
   ]
  },
  {
   "cell_type": "markdown",
   "id": "ffaf8995-64b4-4d25-ae4a-368814ae4434",
   "metadata": {},
   "source": [
    "12. Write a Pandas program to split a given dataframe into groups and list all the keys from the GroupBy object.\r\n"
   ]
  },
  {
   "cell_type": "code",
   "execution_count": 36,
   "id": "1019c155-9900-452e-914f-4b0560d1accb",
   "metadata": {},
   "outputs": [
    {
     "data": {
      "text/plain": [
       "dict_keys(['s001', 's002', 's003', 's004'])"
      ]
     },
     "execution_count": 36,
     "metadata": {},
     "output_type": "execute_result"
    }
   ],
   "source": [
    "df = pd.DataFrame({\n",
    "    'school_code': ['s001','s002','s003','s001','s002','s004'],\n",
    "    'class': ['V', 'V', 'VI', 'VI', 'V', 'VI'],\n",
    "    'name': ['Alberto Franco','Gino Mcneill','Ryan Parkes', 'Eesha Hinton', 'Gino Mcneill', 'David Parkes'],\n",
    "    'date_Of_Birth ': ['15/05/2002','17/05/2002','16/02/1999','25/09/1998','11/05/2002','15/09/1997'],\n",
    "    'age': [12, 12, 13, 13, 14, 12],\n",
    "    'height': [173, 192, 186, 167, 151, 159],\n",
    "    'weight': [35, 32, 33, 30, 31, 32],\n",
    "    'address': ['street1', 'street2', 'street3', 'street1', 'street2', 'street4']},\n",
    "    index=['S1', 'S2', 'S3', 'S4', 'S5', 'S6'])\n",
    "\n",
    "# groups() : This method returns all the groups formed using group by.\n",
    "# keys() : This method returns the keys of the groups.\n",
    "df.groupby(by='school_code').groups.keys()"
   ]
  },
  {
   "cell_type": "markdown",
   "id": "065611f5-1176-4c5c-8346-141d72c1953f",
   "metadata": {},
   "source": [
    "13. Write a Pandas program to split a given dataframe into groups and create a new column with count from GroupBy.\r\n"
   ]
  },
  {
   "cell_type": "code",
   "execution_count": 37,
   "id": "775acfc6-4764-4571-b0f4-ecd3d01afcd1",
   "metadata": {},
   "outputs": [
    {
     "data": {
      "text/html": [
       "<div>\n",
       "<style scoped>\n",
       "    .dataframe tbody tr th:only-of-type {\n",
       "        vertical-align: middle;\n",
       "    }\n",
       "\n",
       "    .dataframe tbody tr th {\n",
       "        vertical-align: top;\n",
       "    }\n",
       "\n",
       "    .dataframe thead th {\n",
       "        text-align: right;\n",
       "    }\n",
       "</style>\n",
       "<table border=\"1\" class=\"dataframe\">\n",
       "  <thead>\n",
       "    <tr style=\"text-align: right;\">\n",
       "      <th></th>\n",
       "      <th>book_name</th>\n",
       "      <th>book_type</th>\n",
       "      <th>count</th>\n",
       "    </tr>\n",
       "  </thead>\n",
       "  <tbody>\n",
       "    <tr>\n",
       "      <th>0</th>\n",
       "      <td>Book1</td>\n",
       "      <td>Math</td>\n",
       "      <td>2</td>\n",
       "    </tr>\n",
       "    <tr>\n",
       "      <th>1</th>\n",
       "      <td>Book2</td>\n",
       "      <td>Physics</td>\n",
       "      <td>2</td>\n",
       "    </tr>\n",
       "    <tr>\n",
       "      <th>2</th>\n",
       "      <td>Book3</td>\n",
       "      <td>Computer</td>\n",
       "      <td>2</td>\n",
       "    </tr>\n",
       "    <tr>\n",
       "      <th>3</th>\n",
       "      <td>Book4</td>\n",
       "      <td>Science</td>\n",
       "      <td>1</td>\n",
       "    </tr>\n",
       "    <tr>\n",
       "      <th>4</th>\n",
       "      <td>Book5</td>\n",
       "      <td>English</td>\n",
       "      <td>1</td>\n",
       "    </tr>\n",
       "  </tbody>\n",
       "</table>\n",
       "</div>"
      ],
      "text/plain": [
       "  book_name book_type  count\n",
       "0     Book1      Math      2\n",
       "1     Book2   Physics      2\n",
       "2     Book3  Computer      2\n",
       "3     Book4   Science      1\n",
       "4     Book5   English      1"
      ]
     },
     "execution_count": 37,
     "metadata": {},
     "output_type": "execute_result"
    }
   ],
   "source": [
    "df = pd.DataFrame({\n",
    "'book_name':['Book1','Book2','Book3','Book4','Book1','Book2','Book3','Book5'],\n",
    "'book_type':['Math','Physics','Computer','Science','Math','Physics','Computer','English'],\n",
    "'book_id':[1,2,3,4,1,2,3,5]})\n",
    "\n",
    "df.groupby(by=['book_name', 'book_type'])['book_type'].count().reset_index(name='count')"
   ]
  },
  {
   "cell_type": "markdown",
   "id": "afa886ad-0fd8-422d-8d31-260444733324",
   "metadata": {},
   "source": [
    "14. Write a Pandas program to split a given dataframe into groups with multiple aggregations.\r\n",
    "Split the following given dataframe by school code, class and get mean, min, and max value of height and age for each value of the school."
   ]
  },
  {
   "cell_type": "code",
   "execution_count": 39,
   "id": "d3ecc5d7-cbae-4de0-90fa-6b49d3151712",
   "metadata": {},
   "outputs": [
    {
     "data": {
      "text/html": [
       "<div>\n",
       "<style scoped>\n",
       "    .dataframe tbody tr th:only-of-type {\n",
       "        vertical-align: middle;\n",
       "    }\n",
       "\n",
       "    .dataframe tbody tr th {\n",
       "        vertical-align: top;\n",
       "    }\n",
       "\n",
       "    .dataframe thead tr th {\n",
       "        text-align: left;\n",
       "    }\n",
       "\n",
       "    .dataframe thead tr:last-of-type th {\n",
       "        text-align: right;\n",
       "    }\n",
       "</style>\n",
       "<table border=\"1\" class=\"dataframe\">\n",
       "  <thead>\n",
       "    <tr>\n",
       "      <th></th>\n",
       "      <th></th>\n",
       "      <th colspan=\"3\" halign=\"left\">height</th>\n",
       "      <th colspan=\"3\" halign=\"left\">age</th>\n",
       "    </tr>\n",
       "    <tr>\n",
       "      <th></th>\n",
       "      <th></th>\n",
       "      <th>mean</th>\n",
       "      <th>min</th>\n",
       "      <th>max</th>\n",
       "      <th>mean</th>\n",
       "      <th>min</th>\n",
       "      <th>max</th>\n",
       "    </tr>\n",
       "    <tr>\n",
       "      <th>school_code</th>\n",
       "      <th>class</th>\n",
       "      <th></th>\n",
       "      <th></th>\n",
       "      <th></th>\n",
       "      <th></th>\n",
       "      <th></th>\n",
       "      <th></th>\n",
       "    </tr>\n",
       "  </thead>\n",
       "  <tbody>\n",
       "    <tr>\n",
       "      <th rowspan=\"2\" valign=\"top\">s001</th>\n",
       "      <th>V</th>\n",
       "      <td>173.0</td>\n",
       "      <td>173</td>\n",
       "      <td>173</td>\n",
       "      <td>12.0</td>\n",
       "      <td>12</td>\n",
       "      <td>12</td>\n",
       "    </tr>\n",
       "    <tr>\n",
       "      <th>VI</th>\n",
       "      <td>163.0</td>\n",
       "      <td>159</td>\n",
       "      <td>167</td>\n",
       "      <td>12.5</td>\n",
       "      <td>12</td>\n",
       "      <td>13</td>\n",
       "    </tr>\n",
       "    <tr>\n",
       "      <th>s002</th>\n",
       "      <th>V</th>\n",
       "      <td>171.5</td>\n",
       "      <td>151</td>\n",
       "      <td>192</td>\n",
       "      <td>13.0</td>\n",
       "      <td>12</td>\n",
       "      <td>14</td>\n",
       "    </tr>\n",
       "    <tr>\n",
       "      <th>s003</th>\n",
       "      <th>VI</th>\n",
       "      <td>186.0</td>\n",
       "      <td>186</td>\n",
       "      <td>186</td>\n",
       "      <td>13.0</td>\n",
       "      <td>13</td>\n",
       "      <td>13</td>\n",
       "    </tr>\n",
       "  </tbody>\n",
       "</table>\n",
       "</div>"
      ],
      "text/plain": [
       "                  height             age        \n",
       "                    mean  min  max  mean min max\n",
       "school_code class                               \n",
       "s001        V      173.0  173  173  12.0  12  12\n",
       "            VI     163.0  159  167  12.5  12  13\n",
       "s002        V      171.5  151  192  13.0  12  14\n",
       "s003        VI     186.0  186  186  13.0  13  13"
      ]
     },
     "execution_count": 39,
     "metadata": {},
     "output_type": "execute_result"
    }
   ],
   "source": [
    "df = pd.DataFrame({\n",
    "    'school_code': ['s001','s002','s003','s001','s002','s001'],\n",
    "    'class': ['V', 'V', 'VI', 'VI', 'V', 'VI'],\n",
    "    'name': ['Alberto Franco','Gino Mcneill','Ryan Parkes', 'Eesha Hinton', 'Gino Mcneill', 'David Parkes'],\n",
    "    'date_Of_Birth ': ['15/05/2002','17/05/2002','16/02/1999','25/09/1998','11/05/2002','15/09/1997'],\n",
    "    'age': [12, 12, 13, 13, 14, 12],\n",
    "    'height': [173, 192, 186, 167, 151, 159],\n",
    "    'weight': [35, 32, 33, 30, 31, 32],\n",
    "    'address': ['street1', 'street2', 'street3', 'street1', 'street2', 'street4']},\n",
    "    index=['S1', 'S2', 'S3', 'S4', 'S5', 'S6'])\n",
    "\n",
    "# the following line of code find outs the mean, min and max of col: height and age.\n",
    "df.groupby(by=['school_code','class']).aggregate({'height':['mean', 'min', 'max'], 'age':['mean', 'min', 'max']})"
   ]
  },
  {
   "cell_type": "markdown",
   "id": "5988147f-5a98-41c4-8604-39f4d8cd88de",
   "metadata": {},
   "source": [
    "15. Write a Pandas program to split the following dataframe into groups by school code and get mean, min, and max value of age with customized column name for each school.\n"
   ]
  },
  {
   "cell_type": "code",
   "execution_count": 40,
   "id": "4e252180-5722-4574-bce5-356527538c05",
   "metadata": {},
   "outputs": [
    {
     "data": {
      "text/html": [
       "<div>\n",
       "<style scoped>\n",
       "    .dataframe tbody tr th:only-of-type {\n",
       "        vertical-align: middle;\n",
       "    }\n",
       "\n",
       "    .dataframe tbody tr th {\n",
       "        vertical-align: top;\n",
       "    }\n",
       "\n",
       "    .dataframe thead th {\n",
       "        text-align: right;\n",
       "    }\n",
       "</style>\n",
       "<table border=\"1\" class=\"dataframe\">\n",
       "  <thead>\n",
       "    <tr style=\"text-align: right;\">\n",
       "      <th></th>\n",
       "      <th>age_mean</th>\n",
       "      <th>age_min</th>\n",
       "      <th>age_max</th>\n",
       "    </tr>\n",
       "    <tr>\n",
       "      <th>school_code</th>\n",
       "      <th></th>\n",
       "      <th></th>\n",
       "      <th></th>\n",
       "    </tr>\n",
       "  </thead>\n",
       "  <tbody>\n",
       "    <tr>\n",
       "      <th>s001</th>\n",
       "      <td>12.5</td>\n",
       "      <td>12</td>\n",
       "      <td>13</td>\n",
       "    </tr>\n",
       "    <tr>\n",
       "      <th>s002</th>\n",
       "      <td>13.0</td>\n",
       "      <td>12</td>\n",
       "      <td>14</td>\n",
       "    </tr>\n",
       "    <tr>\n",
       "      <th>s003</th>\n",
       "      <td>13.0</td>\n",
       "      <td>13</td>\n",
       "      <td>13</td>\n",
       "    </tr>\n",
       "    <tr>\n",
       "      <th>s004</th>\n",
       "      <td>12.0</td>\n",
       "      <td>12</td>\n",
       "      <td>12</td>\n",
       "    </tr>\n",
       "  </tbody>\n",
       "</table>\n",
       "</div>"
      ],
      "text/plain": [
       "             age_mean  age_min  age_max\n",
       "school_code                            \n",
       "s001             12.5       12       13\n",
       "s002             13.0       12       14\n",
       "s003             13.0       13       13\n",
       "s004             12.0       12       12"
      ]
     },
     "execution_count": 40,
     "metadata": {},
     "output_type": "execute_result"
    }
   ],
   "source": [
    "df = pd.DataFrame({\n",
    "    'school_code': ['s001','s002','s003','s001','s002','s004'],\n",
    "    'class': ['V', 'V', 'VI', 'VI', 'V', 'VI'],\n",
    "    'name': ['Alberto Franco','Gino Mcneill','Ryan Parkes', 'Eesha Hinton', 'Gino Mcneill', 'David Parkes'],\n",
    "    'date_Of_Birth ': ['15/05/2002','17/05/2002','16/02/1999','25/09/1998','11/05/2002','15/09/1997'],\n",
    "    'age': [12, 12, 13, 13, 14, 12],\n",
    "    ' height ': [173, 192, 186, 167, 151, 159],\n",
    "    'weight': [35, 32, 33, 30, 31, 32],\n",
    "    'address': ['street1', 'street2', 'street3', 'street1', 'street2', 'street4']},\n",
    "    index=['S1', 'S2', 'S3', 'S4', 'S5', 'S6'])\n",
    "\n",
    "df.groupby(by='school_code').agg(age_mean=('age', 'mean'), age_min=('age', 'min'), age_max=('age', 'max'))"
   ]
  },
  {
   "cell_type": "markdown",
   "id": "78b1572c-f5e8-409f-ab45-cddbfed11384",
   "metadata": {},
   "source": [
    "16. Write a Pandas program to split the following datasets into groups on customer id and calculate the number of customers starting with 'C', the list of all products and the difference of maximum purchase amount and minimum purchase amount.\r\n"
   ]
  },
  {
   "cell_type": "code",
   "execution_count": 46,
   "id": "437243ff-6ae5-498b-ba42-cad519f01ffd",
   "metadata": {},
   "outputs": [
    {
     "data": {
      "text/html": [
       "<div>\n",
       "<style scoped>\n",
       "    .dataframe tbody tr th:only-of-type {\n",
       "        vertical-align: middle;\n",
       "    }\n",
       "\n",
       "    .dataframe tbody tr th {\n",
       "        vertical-align: top;\n",
       "    }\n",
       "\n",
       "    .dataframe thead th {\n",
       "        text-align: right;\n",
       "    }\n",
       "</style>\n",
       "<table border=\"1\" class=\"dataframe\">\n",
       "  <thead>\n",
       "    <tr style=\"text-align: right;\">\n",
       "      <th></th>\n",
       "      <th>customer_id_start_C</th>\n",
       "      <th>customer_id_list</th>\n",
       "      <th>purchase_amt_gap</th>\n",
       "    </tr>\n",
       "    <tr>\n",
       "      <th>salesman_id</th>\n",
       "      <th></th>\n",
       "      <th></th>\n",
       "      <th></th>\n",
       "    </tr>\n",
       "  </thead>\n",
       "  <tbody>\n",
       "    <tr>\n",
       "      <th>5001</th>\n",
       "      <td>1</td>\n",
       "      <td>D3005, D3001, C3005, D3005</td>\n",
       "      <td>5694.74</td>\n",
       "    </tr>\n",
       "    <tr>\n",
       "      <th>5002</th>\n",
       "      <td>3</td>\n",
       "      <td>C3001, C3005, C3001</td>\n",
       "      <td>798.00</td>\n",
       "    </tr>\n",
       "    <tr>\n",
       "      <th>5003</th>\n",
       "      <td>0</td>\n",
       "      <td>D3001, D3005</td>\n",
       "      <td>2369.90</td>\n",
       "    </tr>\n",
       "    <tr>\n",
       "      <th>5005</th>\n",
       "      <td>1</td>\n",
       "      <td>C3001</td>\n",
       "      <td>0.00</td>\n",
       "    </tr>\n",
       "    <tr>\n",
       "      <th>5006</th>\n",
       "      <td>0</td>\n",
       "      <td>D3001</td>\n",
       "      <td>0.00</td>\n",
       "    </tr>\n",
       "    <tr>\n",
       "      <th>5007</th>\n",
       "      <td>0</td>\n",
       "      <td>D3005</td>\n",
       "      <td>0.00</td>\n",
       "    </tr>\n",
       "  </tbody>\n",
       "</table>\n",
       "</div>"
      ],
      "text/plain": [
       "             customer_id_start_C            customer_id_list  purchase_amt_gap\n",
       "salesman_id                                                                   \n",
       "5001                           1  D3005, D3001, C3005, D3005           5694.74\n",
       "5002                           3         C3001, C3005, C3001            798.00\n",
       "5003                           0                D3001, D3005           2369.90\n",
       "5005                           1                       C3001              0.00\n",
       "5006                           0                       D3001              0.00\n",
       "5007                           0                       D3005              0.00"
      ]
     },
     "execution_count": 46,
     "metadata": {},
     "output_type": "execute_result"
    }
   ],
   "source": [
    "df = pd.DataFrame({\n",
    "'ord_no':[70001,70009,70002,70004,70007,70005,70008,70010,70003,70012,70011,70013],\n",
    "'purch_amt':[150.5, 270.65, 65.26, 110.5, 948.5, 2400.6, 5760, 1983.43, 2480.4, 250.45, 75.29, 3045.6],\n",
    "'ord_date': ['05-10-2012','09-10-2012','05-10-2012','08-17-2012','10-09-2012','07-27-2012','10-09-2012','10-10-2012','10-10-2012','06-17-2012','07-08-2012','04-25-2012'],\n",
    "'customer_id':['C3001','C3001','D3005','D3001','C3005','D3001','C3005','D3001','D3005','C3001','D3005','D3005'],\n",
    "'salesman_id': [5002,5005,5001,5003,5002,5001,5001,5006,5003,5002,5007,5001]})\n",
    "\n",
    "def customer_id_C(x):\n",
    "    return (x.str[0] == 'C').sum()\n",
    "    \n",
    "result = df.groupby(['salesman_id']).agg(customer_id_start_C = ('customer_id', customer_id_C),\n",
    "       customer_id_list = ('customer_id', lambda x: ', '.join(x)),\n",
    "       purchase_amt_gap   = ('purch_amt', lambda x: x.max()-x.min())\n",
    "      )\n",
    "\n",
    "result"
   ]
  },
  {
   "cell_type": "markdown",
   "id": "ddcf743c-facc-4e0a-b4c9-86a522a44297",
   "metadata": {},
   "source": [
    "17. Write a Pandas program to split a given dataset, group by one column and remove those groups if all the values of a specific columns are not available.\r\n"
   ]
  },
  {
   "cell_type": "code",
   "execution_count": 48,
   "id": "f18d2023-5ab2-4642-8fae-5f2722329e41",
   "metadata": {},
   "outputs": [
    {
     "data": {
      "text/html": [
       "<div>\n",
       "<style scoped>\n",
       "    .dataframe tbody tr th:only-of-type {\n",
       "        vertical-align: middle;\n",
       "    }\n",
       "\n",
       "    .dataframe tbody tr th {\n",
       "        vertical-align: top;\n",
       "    }\n",
       "\n",
       "    .dataframe thead th {\n",
       "        text-align: right;\n",
       "    }\n",
       "</style>\n",
       "<table border=\"1\" class=\"dataframe\">\n",
       "  <thead>\n",
       "    <tr style=\"text-align: right;\">\n",
       "      <th></th>\n",
       "      <th>school_code</th>\n",
       "      <th>class</th>\n",
       "      <th>name</th>\n",
       "      <th>date_Of_Birth</th>\n",
       "      <th>age</th>\n",
       "      <th>weight</th>\n",
       "      <th>height</th>\n",
       "    </tr>\n",
       "  </thead>\n",
       "  <tbody>\n",
       "    <tr>\n",
       "      <th>S1</th>\n",
       "      <td>s001</td>\n",
       "      <td>V</td>\n",
       "      <td>Alberto Franco</td>\n",
       "      <td>15/05/2002</td>\n",
       "      <td>12</td>\n",
       "      <td>173</td>\n",
       "      <td>35.0</td>\n",
       "    </tr>\n",
       "    <tr>\n",
       "      <th>S3</th>\n",
       "      <td>s003</td>\n",
       "      <td>VI</td>\n",
       "      <td>Ryan Parkes</td>\n",
       "      <td>16/02/1999</td>\n",
       "      <td>13</td>\n",
       "      <td>186</td>\n",
       "      <td>33.0</td>\n",
       "    </tr>\n",
       "    <tr>\n",
       "      <th>S4</th>\n",
       "      <td>s001</td>\n",
       "      <td>VI</td>\n",
       "      <td>Eesha Hinton</td>\n",
       "      <td>25/09/1998</td>\n",
       "      <td>13</td>\n",
       "      <td>167</td>\n",
       "      <td>30.0</td>\n",
       "    </tr>\n",
       "    <tr>\n",
       "      <th>S6</th>\n",
       "      <td>s004</td>\n",
       "      <td>VI</td>\n",
       "      <td>David Parkes</td>\n",
       "      <td>15/09/1997</td>\n",
       "      <td>12</td>\n",
       "      <td>159</td>\n",
       "      <td>32.0</td>\n",
       "    </tr>\n",
       "  </tbody>\n",
       "</table>\n",
       "</div>"
      ],
      "text/plain": [
       "   school_code class            name date_Of_Birth   age  weight  height\n",
       "S1        s001     V  Alberto Franco     15/05/2002   12     173    35.0\n",
       "S3        s003    VI     Ryan Parkes     16/02/1999   13     186    33.0\n",
       "S4        s001    VI    Eesha Hinton     25/09/1998   13     167    30.0\n",
       "S6        s004    VI    David Parkes     15/09/1997   12     159    32.0"
      ]
     },
     "execution_count": 48,
     "metadata": {},
     "output_type": "execute_result"
    }
   ],
   "source": [
    "df = pd.DataFrame({\n",
    "    'school_code': ['s001','s002','s003','s001','s002','s004'],\n",
    "    'class': ['V', 'V', 'VI', 'VI', 'V', 'VI'],\n",
    "    'name': ['Alberto Franco','Gino Mcneill','Ryan Parkes', 'Eesha Hinton', 'Gino Mcneill', 'David Parkes'],\n",
    "    'date_Of_Birth ': ['15/05/2002','17/05/2002','16/02/1999','25/09/1998','11/05/2002','15/09/1997'],\n",
    "    'age': [12, 12, 13, 13, 14, 12],\n",
    "    'weight': [173, 192, 186, 167, 151, 159],\n",
    "    'height': [35, None, 33, 30, None, 32]},\n",
    "    index=['S1', 'S2', 'S3', 'S4', 'S5', 'S6'])\n",
    "\n",
    "df[(~df['height'].isna()).groupby(df['school_code']).transform('any')]"
   ]
  },
  {
   "cell_type": "markdown",
   "id": "388d15c4-7b68-4ec0-be30-3633336a6728",
   "metadata": {},
   "source": [
    "18. Write a Pandas program to split a given dataset using group by on multiple columns and drop last n rows of from each group.\r\n"
   ]
  },
  {
   "cell_type": "code",
   "execution_count": 49,
   "id": "4efed735-ed20-4850-9ad0-b992680d0f95",
   "metadata": {},
   "outputs": [
    {
     "data": {
      "text/html": [
       "<div>\n",
       "<style scoped>\n",
       "    .dataframe tbody tr th:only-of-type {\n",
       "        vertical-align: middle;\n",
       "    }\n",
       "\n",
       "    .dataframe tbody tr th {\n",
       "        vertical-align: top;\n",
       "    }\n",
       "\n",
       "    .dataframe thead th {\n",
       "        text-align: right;\n",
       "    }\n",
       "</style>\n",
       "<table border=\"1\" class=\"dataframe\">\n",
       "  <thead>\n",
       "    <tr style=\"text-align: right;\">\n",
       "      <th></th>\n",
       "      <th>ord_no</th>\n",
       "      <th>purch_amt</th>\n",
       "      <th>ord_date</th>\n",
       "      <th>customer_id</th>\n",
       "      <th>salesman_id</th>\n",
       "    </tr>\n",
       "  </thead>\n",
       "  <tbody>\n",
       "    <tr>\n",
       "      <th>0</th>\n",
       "      <td>70001</td>\n",
       "      <td>150.50</td>\n",
       "      <td>2012-10-05</td>\n",
       "      <td>3002</td>\n",
       "      <td>5002</td>\n",
       "    </tr>\n",
       "    <tr>\n",
       "      <th>2</th>\n",
       "      <td>70002</td>\n",
       "      <td>65.26</td>\n",
       "      <td>2012-10-05</td>\n",
       "      <td>3001</td>\n",
       "      <td>5001</td>\n",
       "    </tr>\n",
       "    <tr>\n",
       "      <th>3</th>\n",
       "      <td>70004</td>\n",
       "      <td>110.50</td>\n",
       "      <td>2012-08-17</td>\n",
       "      <td>3003</td>\n",
       "      <td>5003</td>\n",
       "    </tr>\n",
       "  </tbody>\n",
       "</table>\n",
       "</div>"
      ],
      "text/plain": [
       "   ord_no  purch_amt    ord_date  customer_id  salesman_id\n",
       "0   70001     150.50  2012-10-05         3002         5002\n",
       "2   70002      65.26  2012-10-05         3001         5001\n",
       "3   70004     110.50  2012-08-17         3003         5003"
      ]
     },
     "execution_count": 49,
     "metadata": {},
     "output_type": "execute_result"
    }
   ],
   "source": [
    "df = pd.DataFrame({\n",
    "'ord_no':[70001,70009,70002,70004,70007,70005,70008,70010,70003,70012,70011,70013],\n",
    "'purch_amt':[150.5,270.65,65.26,110.5,948.5,2400.6,5760,1983.43,2480.4,250.45, 75.29,3045.6],\n",
    "'ord_date': ['2012-10-05','2012-09-10','2012-10-05','2012-08-17','2012-09-10','2012-07-27','2012-09-10','2012-10-10','2012-10-10','2012-06-27','2012-08-17','2012-04-25'],\n",
    "'customer_id':[3002,3001,3001,3003,3002,3002,3001,3004,3003,3002,3003,3001],\n",
    "'salesman_id':[5002,5003,5001,5003,5002,5001,5001,5003,5003,5002,5003,5001]})\n",
    "\n",
    "df.drop(df.groupby(['salesman_id', 'customer_id']).tail(2).index, axis=0)"
   ]
  },
  {
   "cell_type": "code",
   "execution_count": null,
   "id": "7874dd23-cd92-49ef-8a7b-991bfb4b83ba",
   "metadata": {},
   "outputs": [],
   "source": []
  }
 ],
 "metadata": {
  "kernelspec": {
   "display_name": "Python 3 (ipykernel)",
   "language": "python",
   "name": "python3"
  },
  "language_info": {
   "codemirror_mode": {
    "name": "ipython",
    "version": 3
   },
   "file_extension": ".py",
   "mimetype": "text/x-python",
   "name": "python",
   "nbconvert_exporter": "python",
   "pygments_lexer": "ipython3",
   "version": "3.11.7"
  }
 },
 "nbformat": 4,
 "nbformat_minor": 5
}
