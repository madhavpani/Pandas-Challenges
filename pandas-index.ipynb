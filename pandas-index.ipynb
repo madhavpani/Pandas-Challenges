{
 "cells": [
  {
   "cell_type": "code",
   "execution_count": 1,
   "id": "18840cba-e6be-47a2-9cdc-b98a32142619",
   "metadata": {},
   "outputs": [],
   "source": [
    "# import pandas with alias pd to work with it.\n",
    "# import numpy with alias np to work with it.\n",
    "import pandas as pd\n",
    "import numpy as np"
   ]
  },
  {
   "cell_type": "markdown",
   "id": "2c942f11-9a17-4076-adf3-0a3c3b151734",
   "metadata": {},
   "source": [
    "1. Write a Pandas program to display the default index and set a column as an Index in a given dataframe.\r\n"
   ]
  },
  {
   "cell_type": "code",
   "execution_count": 3,
   "id": "de0ae677-765b-459f-b0fe-9cda7f5c48f6",
   "metadata": {},
   "outputs": [
    {
     "name": "stdout",
     "output_type": "stream",
     "text": [
      "  school_code class            name date_Of_Birth  weight  address t_id\n",
      "0        s001     V  Alberto Franco    15/05/2002      35  street1   t1\n",
      "1        s002     V    Gino Mcneill    17/05/2002      32  street2   t2\n",
      "2        s003    VI     Ryan Parkes    16/02/1999      33  street3   t3\n",
      "3        s001    VI    Eesha Hinton    25/09/1998      30  street1   t4\n",
      "4        s002     V    Gino Mcneill    11/05/2002      31  street2   t5\n",
      "5        s004    VI    David Parkes    15/09/1997      32  street4   t6\n",
      "            class            name date_Of_Birth  weight  address t_id\n",
      "school_code                                                          \n",
      "s001            V  Alberto Franco    15/05/2002      35  street1   t1\n",
      "s002            V    Gino Mcneill    17/05/2002      32  street2   t2\n",
      "s003           VI     Ryan Parkes    16/02/1999      33  street3   t3\n",
      "s001           VI    Eesha Hinton    25/09/1998      30  street1   t4\n",
      "s002            V    Gino Mcneill    11/05/2002      31  street2   t5\n",
      "s004           VI    David Parkes    15/09/1997      32  street4   t6\n"
     ]
    }
   ],
   "source": [
    "df = pd.DataFrame({\n",
    "    'school_code': ['s001','s002','s003','s001','s002','s004'],\n",
    "    'class': ['V', 'V', 'VI', 'VI', 'V', 'VI'],\n",
    "    'name': ['Alberto Franco','Gino Mcneill','Ryan Parkes', 'Eesha Hinton', 'Gino Mcneill', 'David Parkes'],\n",
    "    'date_Of_Birth': ['15/05/2002','17/05/2002','16/02/1999','25/09/1998','11/05/2002','15/09/1997'],\n",
    "    'weight': [35, 32, 33, 30, 31, 32],\n",
    "    'address': ['street1', 'street2', 'street3', 'street1', 'street2', 'street4'],\n",
    "    't_id':['t1', 't2', 't3', 't4', 't5', 't6']})\n",
    "\n",
    "print(df)\n",
    "# df.set_index(col_name): this method sets the column as index of the df\n",
    "df.set_index('school_code', inplace=True)\n",
    "print(df)"
   ]
  },
  {
   "cell_type": "markdown",
   "id": "9739bc10-3233-4058-abd8-c4c557585bd5",
   "metadata": {},
   "source": [
    "2. Write a Pandas program to create a multi Index frame using two columns and using an Index and a column.\r\n"
   ]
  },
  {
   "cell_type": "code",
   "execution_count": 7,
   "id": "dcd9eeee-e861-4656-8e46-a78df26a0d05",
   "metadata": {},
   "outputs": [
    {
     "name": "stdout",
     "output_type": "stream",
     "text": [
      "Multi Index\n",
      "                 class            name date_Of_Birth  weight  address\n",
      "school_code t_id                                                     \n",
      "s001        t1       V  Alberto Franco    15/05/2002      35  street1\n",
      "s002        t2       V    Gino Mcneill    17/05/2002      32  street2\n",
      "s003        t3      VI     Ryan Parkes    16/02/1999      33  street3\n",
      "s001        t4      VI    Eesha Hinton    25/09/1998      30  street1\n",
      "s002        t5       V    Gino Mcneill    11/05/2002      31  street2\n",
      "s004        t6      VI    David Parkes    15/09/1997      32  street4\n",
      "Multi Index with default index and a column: \n",
      "              class            name date_Of_Birth  weight  address t_id\n",
      "  school_code                                                          \n",
      "0 s001            V  Alberto Franco    15/05/2002      35  street1   t1\n",
      "1 s002            V    Gino Mcneill    17/05/2002      32  street2   t2\n",
      "2 s003           VI     Ryan Parkes    16/02/1999      33  street3   t3\n",
      "3 s001           VI    Eesha Hinton    25/09/1998      30  street1   t4\n",
      "4 s002            V    Gino Mcneill    11/05/2002      31  street2   t5\n",
      "5 s004           VI    David Parkes    15/09/1997      32  street4   t6\n"
     ]
    }
   ],
   "source": [
    "df = pd.DataFrame({\n",
    "    'school_code': ['s001','s002','s003','s001','s002','s004'],\n",
    "    'class': ['V', 'V', 'VI', 'VI', 'V', 'VI'],\n",
    "    'name': ['Alberto Franco','Gino Mcneill','Ryan Parkes', 'Eesha Hinton', 'Gino Mcneill', 'David Parkes'],\n",
    "    'date_Of_Birth': ['15/05/2002','17/05/2002','16/02/1999','25/09/1998','11/05/2002','15/09/1997'],\n",
    "    'weight': [35, 32, 33, 30, 31, 32],\n",
    "    'address': ['street1', 'street2', 'street3', 'street1', 'street2', 'street4'],\n",
    "    't_id':['t1', 't2', 't3', 't4', 't5', 't6']})\n",
    "\n",
    "# multi Index df using two cols\n",
    "# here we can use df.set_index() method\n",
    "df1 = df.set_index(['school_code', 't_id'])\n",
    "print('Multi Index')\n",
    "print(df1)\n",
    "\n",
    "# to create multi index using default index and a column.\n",
    "df2 = df.set_index([df.index, 'school_code'])\n",
    "print('Multi Index with default index and a column: ')\n",
    "print(df2)"
   ]
  },
  {
   "cell_type": "markdown",
   "id": "835c22e8-1c3e-49b7-9fa9-d195cb728c9c",
   "metadata": {},
   "source": [
    "3. Write a Pandas program to create a dataframe and set a title or name of the index column.\r\n"
   ]
  },
  {
   "cell_type": "code",
   "execution_count": 8,
   "id": "a1d734dc-0d3a-42e5-a226-ee4acaec0503",
   "metadata": {},
   "outputs": [
    {
     "data": {
      "text/html": [
       "<div>\n",
       "<style scoped>\n",
       "    .dataframe tbody tr th:only-of-type {\n",
       "        vertical-align: middle;\n",
       "    }\n",
       "\n",
       "    .dataframe tbody tr th {\n",
       "        vertical-align: top;\n",
       "    }\n",
       "\n",
       "    .dataframe thead th {\n",
       "        text-align: right;\n",
       "    }\n",
       "</style>\n",
       "<table border=\"1\" class=\"dataframe\">\n",
       "  <thead>\n",
       "    <tr style=\"text-align: right;\">\n",
       "      <th></th>\n",
       "      <th>school_code</th>\n",
       "      <th>class</th>\n",
       "      <th>name</th>\n",
       "      <th>date_Of_Birth</th>\n",
       "      <th>weight</th>\n",
       "      <th>address</th>\n",
       "      <th>t_id</th>\n",
       "    </tr>\n",
       "    <tr>\n",
       "      <th>index_name</th>\n",
       "      <th></th>\n",
       "      <th></th>\n",
       "      <th></th>\n",
       "      <th></th>\n",
       "      <th></th>\n",
       "      <th></th>\n",
       "      <th></th>\n",
       "    </tr>\n",
       "  </thead>\n",
       "  <tbody>\n",
       "    <tr>\n",
       "      <th>0</th>\n",
       "      <td>s001</td>\n",
       "      <td>V</td>\n",
       "      <td>Alberto Franco</td>\n",
       "      <td>15/05/2002</td>\n",
       "      <td>35</td>\n",
       "      <td>street1</td>\n",
       "      <td>t1</td>\n",
       "    </tr>\n",
       "    <tr>\n",
       "      <th>1</th>\n",
       "      <td>s002</td>\n",
       "      <td>V</td>\n",
       "      <td>Gino Mcneill</td>\n",
       "      <td>17/05/2002</td>\n",
       "      <td>32</td>\n",
       "      <td>street2</td>\n",
       "      <td>t2</td>\n",
       "    </tr>\n",
       "    <tr>\n",
       "      <th>2</th>\n",
       "      <td>s003</td>\n",
       "      <td>VI</td>\n",
       "      <td>Ryan Parkes</td>\n",
       "      <td>16/02/1999</td>\n",
       "      <td>33</td>\n",
       "      <td>street3</td>\n",
       "      <td>t3</td>\n",
       "    </tr>\n",
       "    <tr>\n",
       "      <th>3</th>\n",
       "      <td>s001</td>\n",
       "      <td>VI</td>\n",
       "      <td>Eesha Hinton</td>\n",
       "      <td>25/09/1998</td>\n",
       "      <td>30</td>\n",
       "      <td>street1</td>\n",
       "      <td>t4</td>\n",
       "    </tr>\n",
       "    <tr>\n",
       "      <th>4</th>\n",
       "      <td>s002</td>\n",
       "      <td>V</td>\n",
       "      <td>Gino Mcneill</td>\n",
       "      <td>11/05/2002</td>\n",
       "      <td>31</td>\n",
       "      <td>street2</td>\n",
       "      <td>t5</td>\n",
       "    </tr>\n",
       "    <tr>\n",
       "      <th>5</th>\n",
       "      <td>s004</td>\n",
       "      <td>VI</td>\n",
       "      <td>David Parkes</td>\n",
       "      <td>15/09/1997</td>\n",
       "      <td>32</td>\n",
       "      <td>street4</td>\n",
       "      <td>t6</td>\n",
       "    </tr>\n",
       "  </tbody>\n",
       "</table>\n",
       "</div>"
      ],
      "text/plain": [
       "           school_code class            name date_Of_Birth  weight  address  \\\n",
       "index_name                                                                    \n",
       "0                 s001     V  Alberto Franco    15/05/2002      35  street1   \n",
       "1                 s002     V    Gino Mcneill    17/05/2002      32  street2   \n",
       "2                 s003    VI     Ryan Parkes    16/02/1999      33  street3   \n",
       "3                 s001    VI    Eesha Hinton    25/09/1998      30  street1   \n",
       "4                 s002     V    Gino Mcneill    11/05/2002      31  street2   \n",
       "5                 s004    VI    David Parkes    15/09/1997      32  street4   \n",
       "\n",
       "           t_id  \n",
       "index_name       \n",
       "0            t1  \n",
       "1            t2  \n",
       "2            t3  \n",
       "3            t4  \n",
       "4            t5  \n",
       "5            t6  "
      ]
     },
     "execution_count": 8,
     "metadata": {},
     "output_type": "execute_result"
    }
   ],
   "source": [
    "df = pd.DataFrame({\n",
    "    'school_code': ['s001','s002','s003','s001','s002','s004'],\n",
    "    'class': ['V', 'V', 'VI', 'VI', 'V', 'VI'],\n",
    "    'name': ['Alberto Franco','Gino Mcneill','Ryan Parkes', 'Eesha Hinton', 'Gino Mcneill', 'David Parkes'],\n",
    "    'date_Of_Birth': ['15/05/2002','17/05/2002','16/02/1999','25/09/1998','11/05/2002','15/09/1997'],\n",
    "    'weight': [35, 32, 33, 30, 31, 32],\n",
    "    'address': ['street1', 'street2', 'street3', 'street1', 'street2', 'street4'],\n",
    "    't_id':['t1', 't2', 't3', 't4', 't5', 't6']})\n",
    "\n",
    "# df.index.name property can be used to assign a name to the index of the df.\n",
    "df.index.name = 'index_name'\n",
    "df"
   ]
  },
  {
   "cell_type": "markdown",
   "id": "31ae29d1-5c14-4ec6-a2d9-467e059c919f",
   "metadata": {},
   "source": [
    "4. Write a Pandas program to set value in a specific cell in a given dataframe using index.\r\n"
   ]
  },
  {
   "cell_type": "code",
   "execution_count": 12,
   "id": "8bc12f3d-ba25-4099-9973-dd5337cf1819",
   "metadata": {},
   "outputs": [
    {
     "name": "stdout",
     "output_type": "stream",
     "text": [
      "  school_code class            name date_Of_Birth  weight  address t_id\n",
      "0        s001     V  Alberto Franco    15/05/2002      35  street1   t1\n",
      "1        s002     V    Gino Mcneill    17/05/2002      32  street2   t2\n",
      "2        s003    VI     Ryan Parkes    16/02/1999      33  street3   t3\n",
      "3        s001    VI    Eesha Hinton    25/09/1998      30  street1   t4\n",
      "4        s002     V    Gino Mcneill    11/05/2002      31  street2   t5\n",
      "5        s004    VI    David Parkes    15/09/1997      32  street4   t6\n",
      "name changed\n",
      "  school_code class            name date_Of_Birth  weight  address t_id\n",
      "0        s001     V  Alberto Franco    15/05/2002      35  street1   t1\n",
      "1        s002     V    Gino Mcneill    17/05/2002      32  street2   t2\n",
      "2        s003    VI     Ryan Parkes    16/02/1999      33  street3   t3\n",
      "3        s001    VI          Madhav    25/09/1998      30  street1   t4\n",
      "4        s002     V    Gino Mcneill    11/05/2002      31  street2   t5\n",
      "5        s004    VI    David Parkes    15/09/1997      32  street4   t6\n"
     ]
    }
   ],
   "source": [
    "df = pd.DataFrame({\n",
    "    'school_code': ['s001','s002','s003','s001','s002','s004'],\n",
    "    'class': ['V', 'V', 'VI', 'VI', 'V', 'VI'],\n",
    "    'name': ['Alberto Franco','Gino Mcneill','Ryan Parkes', 'Eesha Hinton', 'Gino Mcneill', 'David Parkes'],\n",
    "    'date_Of_Birth': ['15/05/2002','17/05/2002','16/02/1999','25/09/1998','11/05/2002','15/09/1997'],\n",
    "    'weight': [35, 32, 33, 30, 31, 32],\n",
    "    'address': ['street1', 'street2', 'street3', 'street1', 'street2', 'street4'],\n",
    "    't_id':['t1', 't2', 't3', 't4', 't5', 't6']})\n",
    "\n",
    "print(df)\n",
    "# lets change the name of the student at index 3.\n",
    "# df.loc[row, col] : This property can be used to access the cell of the df.\n",
    "df.loc[3, 'name'] = 'Madhav'\n",
    "print('name changed')\n",
    "print(df)"
   ]
  },
  {
   "cell_type": "markdown",
   "id": "2d419ca8-8e6d-4dda-8b17-594882df0a37",
   "metadata": {},
   "source": [
    "5. Write a Pandas program to convert 1st and 3rd levels in the index into columns from a multiple level of index frame of a given dataframe."
   ]
  },
  {
   "cell_type": "code",
   "execution_count": 15,
   "id": "9c9e3074-b990-4acf-9773-68f4af8a2b20",
   "metadata": {},
   "outputs": [
    {
     "name": "stdout",
     "output_type": "stream",
     "text": [
      "3 level of index\n",
      "                               class            name  weight\n",
      "school_code t_id date_of_birth                              \n",
      "s001        t1   15/05/2002        V  Alberto Franco      35\n",
      "s002        t2   17/05/2002        V    Gino Mcneill      32\n",
      "s003        t3   16/02/1999       VI     Ryan Parkes      33\n",
      "s001        t4   25/09/1998       VI    Eesha Hinton      30\n",
      "s002        t5   11/05/2002        V    Gino Mcneill      31\n",
      "s004        t6   15/09/1997       VI    David Parkes      32\n",
      "1 level of index\n",
      "     school_code date_of_birth class            name  weight\n",
      "t_id                                                        \n",
      "t1          s001    15/05/2002     V  Alberto Franco      35\n",
      "t2          s002    17/05/2002     V    Gino Mcneill      32\n",
      "t3          s003    16/02/1999    VI     Ryan Parkes      33\n",
      "t4          s001    25/09/1998    VI    Eesha Hinton      30\n",
      "t5          s002    11/05/2002     V    Gino Mcneill      31\n",
      "t6          s004    15/09/1997    VI    David Parkes      32\n"
     ]
    }
   ],
   "source": [
    "df = pd.DataFrame({\n",
    "    'school_code': ['s001','s002','s003','s001','s002','s004'],\n",
    "    'class': ['V', 'V', 'VI', 'VI', 'V', 'VI'],\n",
    "    'name': ['Alberto Franco','Gino Mcneill','Ryan Parkes', 'Eesha Hinton', 'Gino Mcneill', 'David Parkes'],\n",
    "    'date_of_birth': ['15/05/2002','17/05/2002','16/02/1999','25/09/1998','11/05/2002','15/09/1997'],\n",
    "    'weight': [35, 32, 33, 30, 31, 32],\n",
    "    't_id': ['t1', 't2', 't3', 't4', 't5', 't6']})\n",
    "\n",
    "# lets create 3 levels of index in df\n",
    "df1 = df.set_index(['school_code', 't_id', 'date_of_birth'])\n",
    "print('3 level of index')\n",
    "print(df1)\n",
    "\n",
    "# converting 1 and 3 level of index into column.\n",
    "df2 = df1.reset_index(level=['school_code', 'date_of_birth'])\n",
    "print('1 level of index')\n",
    "print(df2)"
   ]
  },
  {
   "cell_type": "markdown",
   "id": "769518a0-69f7-4999-bbf1-98bd00fc4a04",
   "metadata": {},
   "source": [
    "6. Write a Pandas program to extract a single row, rows and a specific value from a DataFrame.\r\n",
    "\n"
   ]
  },
  {
   "cell_type": "code",
   "execution_count": 22,
   "id": "ff08b622-b631-436c-bf62-0160f4885f34",
   "metadata": {},
   "outputs": [
    {
     "name": "stdout",
     "output_type": "stream",
     "text": [
      "  school_code class            name date_of_birth  weight t_id\n",
      "0        s001     V  Alberto Franco    15/05/2002      35   t1\n",
      "1        s002     V    Gino Mcneill    17/05/2002      32   t2\n",
      "2        s003    VI     Ryan Parkes    16/02/1999      33   t3\n",
      "3        s001    VI    Eesha Hinton    25/09/1998      30   t4\n",
      "4        s002     V    Gino Mcneill    11/05/2002      31   t5\n",
      "5        s004    VI    David Parkes    15/09/1997      32   t6\n",
      "\n",
      "4th row: \n",
      "school_code              s001\n",
      "class                      VI\n",
      "name             Eesha Hinton\n",
      "date_of_birth      25/09/1998\n",
      "weight                     30\n",
      "t_id                       t4\n",
      "Name: 3, dtype: object\n",
      "\n",
      "2nd row to 4th row: \n",
      "  school_code class          name date_of_birth  weight t_id\n",
      "1        s002     V  Gino Mcneill    17/05/2002      32   t2\n",
      "2        s003    VI   Ryan Parkes    16/02/1999      33   t3\n",
      "3        s001    VI  Eesha Hinton    25/09/1998      30   t4\n",
      "4        s002     V  Gino Mcneill    11/05/2002      31   t5\n",
      "\n",
      " value in 4th row and 2nd col: \n",
      "VI\n"
     ]
    }
   ],
   "source": [
    "df = pd.DataFrame({\n",
    "    'school_code': ['s001','s002','s003','s001','s002','s004'],\n",
    "    'class': ['V', 'V', 'VI', 'VI', 'V', 'VI'],\n",
    "    'name': ['Alberto Franco','Gino Mcneill','Ryan Parkes', 'Eesha Hinton', 'Gino Mcneill', 'David Parkes'],\n",
    "    'date_of_birth': ['15/05/2002','17/05/2002','16/02/1999','25/09/1998','11/05/2002','15/09/1997'],\n",
    "    'weight': [35, 32, 33, 30, 31, 32],\n",
    "    't_id': ['t1', 't2', 't3', 't4', 't5', 't6']})\n",
    "\n",
    "print(df)\n",
    "# df.loc[row, col] : this property allows us to access the specified rows and cols\n",
    "# let's extract 4th row\n",
    "print('\\n4th row: ')\n",
    "print(df.loc[3])\n",
    "\n",
    "# let's extract rows 2 to 4\n",
    "print('\\n2nd row to 4th row: ')\n",
    "print(df.loc[1:4])\n",
    "\n",
    "# let's extract specific value of 4th row and 2nd column\n",
    "print('\\n value in 4th row and 2nd col: ')\n",
    "print(df.loc[3, 'class'])"
   ]
  },
  {
   "cell_type": "markdown",
   "id": "1ff258cc-74c5-4597-80e0-59b63e96d546",
   "metadata": {},
   "source": [
    "7. Write a Pandas program to extract elements in the given positional indices along an axis of a dataframe.\r\n"
   ]
  },
  {
   "cell_type": "code",
   "execution_count": 27,
   "id": "41490f80-016b-4ea3-8880-a66595e4abf8",
   "metadata": {},
   "outputs": [
    {
     "name": "stdout",
     "output_type": "stream",
     "text": [
      "             name\n",
      "0  Alberto Franco\n",
      "1    Gino Mcneill\n",
      "2     Ryan Parkes\n",
      "3    Eesha Hinton\n",
      "4    Gino Mcneill\n",
      "5    David Parkes\n",
      "\n",
      "   school_code class         name date_of_birth  weight t_id\n",
      "2        s003    VI  Ryan Parkes    16/02/1999      33   t3\n"
     ]
    }
   ],
   "source": [
    "df = pd.DataFrame({\n",
    "    'school_code': ['s001','s002','s003','s001','s002','s004'],\n",
    "    'class': ['V', 'V', 'VI', 'VI', 'V', 'VI'],\n",
    "    'name': ['Alberto Franco','Gino Mcneill','Ryan Parkes', 'Eesha Hinton', 'Gino Mcneill', 'David Parkes'],\n",
    "    'date_of_birth': ['15/05/2002','17/05/2002','16/02/1999','25/09/1998','11/05/2002','15/09/1997'],\n",
    "    'weight': [35, 32, 33, 30, 31, 32],\n",
    "    't_id': ['t1', 't2', 't3', 't4', 't5', 't6']})\n",
    "\n",
    "# df.take(indices, axis) : this method extract the specific value with passed indices along axis.\n",
    "# axis = 1, returns the column\n",
    "# let's extract 3rd column\n",
    "print(df.take([2], axis=1))\n",
    "\n",
    "# axis = 0, returns the row\n",
    "# let's extract 3rd row\n",
    "\n",
    "print('\\n', df.take([2], axis=0))"
   ]
  },
  {
   "cell_type": "markdown",
   "id": "32f494e9-5ac9-46c0-b7b1-c26945f4a7b0",
   "metadata": {},
   "source": [
    "8. Write a Pandas program to find integer index of rows with missing data in a given dataframe.\r\n",
    "\n",
    "\n"
   ]
  },
  {
   "cell_type": "code",
   "execution_count": 64,
   "id": "4038a97f-78a5-404b-bbbb-c891fbb297b2",
   "metadata": {},
   "outputs": [
    {
     "data": {
      "text/plain": [
       "array([1, 5], dtype=int64)"
      ]
     },
     "execution_count": 64,
     "metadata": {},
     "output_type": "execute_result"
    }
   ],
   "source": [
    "df = pd.DataFrame({\n",
    "    'school_code': ['s001','s002','s003','s001','s002','s004'],\n",
    "    'class': ['V', 'V', 'VI', 'VI', 'V', 'VI'],\n",
    "    'name': ['Alberto Franco','Gino Mcneill','Ryan Parkes', 'Eesha Hinton', 'Gino Mcneill', 'David Parkes'],\n",
    "    'date_of_birth': ['15/05/2002','17/05/2002','16/02/1999','25/09/1998','11/05/2002','15/09/1997'],\n",
    "    'weight': [35, None, 33, 30, 31, None],\n",
    "    't_id': ['t1', 't2', 't3', 't4', 't5', 't6']})\n",
    "\n",
    "# the below line of code check for the weight column is any null value is present then, index is stored in index variable.\n",
    "index = df['weight'].index[df['weight'].apply(np.isnan)]\n",
    "index.values"
   ]
  }
 ],
 "metadata": {
  "kernelspec": {
   "display_name": "Python 3 (ipykernel)",
   "language": "python",
   "name": "python3"
  },
  "language_info": {
   "codemirror_mode": {
    "name": "ipython",
    "version": 3
   },
   "file_extension": ".py",
   "mimetype": "text/x-python",
   "name": "python",
   "nbconvert_exporter": "python",
   "pygments_lexer": "ipython3",
   "version": "3.11.7"
  }
 },
 "nbformat": 4,
 "nbformat_minor": 5
}
