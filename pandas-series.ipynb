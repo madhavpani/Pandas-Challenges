{
 "cells": [
  {
   "cell_type": "code",
   "execution_count": 1,
   "id": "a6e1ba38-d258-4e49-bed2-06ae4d107668",
   "metadata": {},
   "outputs": [],
   "source": [
    "# first to work with pandas, we need to import pandas\n",
    "# import pandas with alias pd\n",
    "import pandas as pd\n",
    "\n",
    "# import numpy with alias np to create random arrays \n",
    "import numpy as np"
   ]
  },
  {
   "cell_type": "markdown",
   "id": "c096c800-79fd-41ed-9a16-4fbc59766337",
   "metadata": {},
   "source": [
    "1. Write a Pandas program to create and display a one-dimensional array-like object containing an array of data using Pandas module."
   ]
  },
  {
   "cell_type": "code",
   "execution_count": 3,
   "id": "844aa206-b942-4725-90ba-105786587e37",
   "metadata": {},
   "outputs": [
    {
     "name": "stdout",
     "output_type": "stream",
     "text": [
      "Series:  0    13\n",
      "1    16\n",
      "2    15\n",
      "3    12\n",
      "4    18\n",
      "dtype: int32\n"
     ]
    }
   ],
   "source": [
    "# Series(array): This method creates a series out of an array passed to it.\n",
    "series = pd.Series(np.random.randint(12, 22, 5))\n",
    "print('Series: ', series)"
   ]
  },
  {
   "cell_type": "markdown",
   "id": "60097d56-b7d8-41d3-950a-7db950583f5e",
   "metadata": {},
   "source": [
    "2. Write a Pandas program to convert a Panda module Series to Python list and it's type.\n"
   ]
  },
  {
   "cell_type": "code",
   "execution_count": 6,
   "id": "cd71a1d1-f9ff-40a0-b4fa-e00fa3a0c0eb",
   "metadata": {},
   "outputs": [
    {
     "name": "stdout",
     "output_type": "stream",
     "text": [
      "Series:  0    21\n",
      "1    17\n",
      "2    14\n",
      "3    18\n",
      "4    21\n",
      "dtype: int32\n",
      "\n",
      "Type of Series:  <class 'pandas.core.series.Series'>\n",
      "\n",
      "List:  [21, 17, 14, 18, 21]\n",
      "\n",
      "Type of List:  <class 'list'>\n"
     ]
    }
   ],
   "source": [
    "# lets, first create a data series in pandas\n",
    "series = pd.Series(np.random.randint(12, 22, 5))\n",
    "print('Series: ', series)\n",
    "print('\\nType of Series: ', type(series))\n",
    "\n",
    "# now lets convert the series to python list\n",
    "# series.to_list() : This method converts a series to list.\n",
    "list = series.tolist()\n",
    "print('\\nList: ', list)\n",
    "print('\\nType of List: ', type(list))"
   ]
  },
  {
   "cell_type": "markdown",
   "id": "17ff7ded-1bdb-4e0e-b79c-86b0a8d0aa9f",
   "metadata": {},
   "source": [
    "3. Write a Pandas program to add, subtract, multiple and divide two Pandas Series.\n",
    "Sample Series: [2, 4, 6, 8, 10], [1, 3, 5, 7, 9]"
   ]
  },
  {
   "cell_type": "code",
   "execution_count": 9,
   "id": "e1ca3114-ad9d-4625-82d2-fdcdeaa5102c",
   "metadata": {},
   "outputs": [
    {
     "name": "stdout",
     "output_type": "stream",
     "text": [
      "Series1:  0     2\n",
      "1     4\n",
      "2     6\n",
      "3     8\n",
      "4    10\n",
      "dtype: int64\n",
      "\n",
      "Series2:  0    1\n",
      "1    3\n",
      "2    5\n",
      "3    7\n",
      "4    9\n",
      "dtype: int64\n",
      "\n",
      "Addition of two Series: \n",
      " 0     3\n",
      "1     7\n",
      "2    11\n",
      "3    15\n",
      "4    19\n",
      "dtype: int64\n",
      "\n",
      "Difference between two Series: \n",
      " 0    1\n",
      "1    1\n",
      "2    1\n",
      "3    1\n",
      "4    1\n",
      "dtype: int64\n",
      "\n",
      "Product of two Series: \n",
      " 0     2\n",
      "1    12\n",
      "2    30\n",
      "3    56\n",
      "4    90\n",
      "dtype: int64\n",
      "\n",
      "Division of two Series: \n",
      " 0    2.000000\n",
      "1    1.333333\n",
      "2    1.200000\n",
      "3    1.142857\n",
      "4    1.111111\n",
      "dtype: float64\n"
     ]
    }
   ],
   "source": [
    "# lets create two series as given\n",
    "series1 = pd.Series([2, 4, 6, 8, 10])\n",
    "series2 = pd.Series([1, 3, 5, 7, 9])\n",
    "\n",
    "print('Series1: ', series1)\n",
    "print('\\nSeries2: ', series2)\n",
    "\n",
    "# addition of two Series\n",
    "print('\\nAddition of two Series: \\n', series1 + series2)\n",
    "\n",
    "# difference of two Series\n",
    "print('\\nDifference between two Series: \\n', series1 - series2)\n",
    "\n",
    "# multiplication of two Series\n",
    "print('\\nProduct of two Series: \\n', series1*series2)\n",
    "\n",
    "# Division between two Series\n",
    "print('\\nDivision of two Series: \\n', series1/series2)"
   ]
  },
  {
   "cell_type": "markdown",
   "id": "11dfa194-a715-43e0-93e5-a6a1ba8cf0ba",
   "metadata": {},
   "source": [
    "4. Write a Pandas program to compare the elements of the two Pandas Series.\r\n",
    "Sample Series: [2, 4, 6, 8, 10], [1, 3, 5, 7, 10]"
   ]
  },
  {
   "cell_type": "code",
   "execution_count": 11,
   "id": "3440f386-0c47-4867-aeb6-2676577994e7",
   "metadata": {},
   "outputs": [
    {
     "name": "stdout",
     "output_type": "stream",
     "text": [
      "Series1: \n",
      " 0     2\n",
      "1     4\n",
      "2     6\n",
      "3     8\n",
      "4    10\n",
      "dtype: int32\n",
      "\n",
      "Series2: \n",
      " 0    1\n",
      "1    3\n",
      "2    5\n",
      "3    7\n",
      "4    9\n",
      "dtype: int32\n",
      "\n",
      "Is Series1 equals Series2: \n",
      " 0    False\n",
      "1    False\n",
      "2    False\n",
      "3    False\n",
      "4    False\n",
      "dtype: bool\n",
      "\n",
      "Is Series1 greaterthan Series2: \n",
      " 0    True\n",
      "1    True\n",
      "2    True\n",
      "3    True\n",
      "4    True\n",
      "dtype: bool\n",
      "\n",
      "Is Series1 lessthan Series2: \n",
      " 0    False\n",
      "1    False\n",
      "2    False\n",
      "3    False\n",
      "4    False\n",
      "dtype: bool\n"
     ]
    }
   ],
   "source": [
    "# first create two series\n",
    "series1, series2 = pd.Series(np.arange(2, 11, 2)), pd.Series(np.arange(1, 11, 2))\n",
    "print('Series1: \\n', series1)\n",
    "print('\\nSeries2: \\n', series2)\n",
    "\n",
    "# lets compare between Series1 and Series2 \n",
    "print('\\nIs Series1 equals Series2: \\n', series1 == series2)\n",
    "\n",
    "print('\\nIs Series1 greaterthan Series2: \\n', series1 > series2)\n",
    "\n",
    "print('\\nIs Series1 lessthan Series2: \\n', series1 < series2)"
   ]
  },
  {
   "cell_type": "markdown",
   "id": "0e74e6b5-62a0-4c59-8a2f-e01699ff890f",
   "metadata": {},
   "source": [
    "5. Write a Pandas program to convert a dictionary to a Pandas series.\r\n",
    "Sample Series: \r\n",
    "Original dictionary:\r\n",
    "{'a': 100, 'b': 200, 'c': 300, 'd': 400, 'e': 800}\r\n",
    "\r\n",
    "Converted series:\r\n",
    "a    100\r\n",
    "b    200\r\n",
    "c    300\r\n",
    "d    400\r\n",
    "e    800\r\n",
    "dtype: int64 "
   ]
  },
  {
   "cell_type": "code",
   "execution_count": 12,
   "id": "41cfb508-9830-4446-bf86-c9397cebcef0",
   "metadata": {},
   "outputs": [
    {
     "name": "stdout",
     "output_type": "stream",
     "text": [
      "Original Dictionary: \n",
      " {'a': 100, 'b': 200, 'c': 300, 'd': 400, 'e': 800}\n",
      "\n",
      "Series: \n",
      " a    100\n",
      "b    200\n",
      "c    300\n",
      "d    400\n",
      "e    800\n",
      "dtype: int64\n"
     ]
    }
   ],
   "source": [
    "# create the dictionary\n",
    "dictionary = {'a': 100, 'b': 200, 'c': 300, 'd': 400, 'e': 800}\n",
    "print('Original Dictionary: \\n', dictionary)\n",
    "\n",
    "series = pd.Series(dictionary)\n",
    "print('\\nSeries: \\n', series)"
   ]
  },
  {
   "cell_type": "markdown",
   "id": "3744ad7e-d4bb-46f1-acc7-883183ea5201",
   "metadata": {},
   "source": [
    "6. Write a Pandas program to convert a NumPy array to a Pandas series.\r\n",
    "Sample Series: \r\n",
    "  NumPy array:\r\n",
    "[10 20 30 40 50]\r\n",
    "Converted Pandas series:\r\n",
    "0    10\r\n",
    "1    20\r\n",
    "2    30\r\n",
    "3    40\r\n",
    "4    50\r\n",
    "dtype: int64 "
   ]
  },
  {
   "cell_type": "code",
   "execution_count": 13,
   "id": "fbc5bb5b-12b2-4380-af00-a3396ea1bd31",
   "metadata": {},
   "outputs": [
    {
     "name": "stdout",
     "output_type": "stream",
     "text": [
      "Array:  [10 20 30 40 50]\n",
      "\n",
      "Series:  0    10\n",
      "1    20\n",
      "2    30\n",
      "3    40\n",
      "4    50\n",
      "dtype: int32\n"
     ]
    }
   ],
   "source": [
    "arr = np.array([10, 20, 30, 40,50])\n",
    "print('Array: ', arr)\n",
    "\n",
    "series = pd.Series(arr)\n",
    "print('\\nSeries: ', series)"
   ]
  },
  {
   "cell_type": "markdown",
   "id": "cae99153-cb97-42f5-834c-abd5e4f3e2fb",
   "metadata": {},
   "source": [
    "7. Write a Pandas program to change the data type of given a column or a Series.\r\n"
   ]
  },
  {
   "cell_type": "code",
   "execution_count": null,
   "id": "f9627dd8-fa30-4f57-b44c-2fc051390c49",
   "metadata": {},
   "outputs": [],
   "source": [
    "Sample Series: \n",
    "    Original Data Series:\n",
    "0       100\n",
    "1       200\n",
    "2    python\n",
    "3    300.12\n",
    "4       400\n",
    "dtype: object\n",
    "Change the said data type to numeric:\n",
    "0    100.00\n",
    "1    200.00\n",
    "2       NaN\n",
    "3    300.12\n",
    "4    400.00\n",
    "dtype: float64"
   ]
  },
  {
   "cell_type": "code",
   "execution_count": 20,
   "id": "15c6e1f6-af41-421c-b703-60e40c04dccf",
   "metadata": {},
   "outputs": [
    {
     "name": "stdout",
     "output_type": "stream",
     "text": [
      "Original Series: \n",
      " 0       100\n",
      "1       200\n",
      "2    python\n",
      "3    300.12\n",
      "4       400\n",
      "dtype: object\n",
      "Numeric Series: \n",
      " 0    100.00\n",
      "1    200.00\n",
      "2       NaN\n",
      "3    300.12\n",
      "4    400.00\n",
      "dtype: float64\n"
     ]
    }
   ],
   "source": [
    "# lets create the series\n",
    "series = pd.Series([100, 200, 'python', 300.12, 400])\n",
    "print('Original Series: \\n', series)\n",
    "\n",
    "print('Numeric Series: \\n', pd.to_numeric(series, errors='coerce'))"
   ]
  },
  {
   "cell_type": "markdown",
   "id": "3e312fec-2114-40d6-8792-fcb533e31754",
   "metadata": {},
   "source": [
    "8. Write a Pandas program to convert the first column of a DataFrame as a Series.\r\n"
   ]
  },
  {
   "cell_type": "code",
   "execution_count": 22,
   "id": "eaacccc9-6a95-47e4-87f8-452afb5b8edf",
   "metadata": {},
   "outputs": [
    {
     "name": "stdout",
     "output_type": "stream",
     "text": [
      "DataFrame: \n",
      "    a  b\n",
      "0  1  5\n",
      "1  2  6\n",
      "2  3  7\n",
      "3  4  8\n",
      "Series: \n",
      " 0    1\n",
      "1    2\n",
      "2    3\n",
      "3    4\n",
      "Name: a, dtype: int64\n"
     ]
    }
   ],
   "source": [
    "# lets create a dataframe \n",
    "df = pd.DataFrame({'a': [1, 2, 3, 4], 'b': [5, 6, 7, 8]})\n",
    "print('DataFrame: \\n', df)\n",
    "\n",
    "# lets create Series out of first column of the DataFrame\n",
    "series = pd.Series(df['a'])\n",
    "print('Series: \\n', series)"
   ]
  },
  {
   "cell_type": "markdown",
   "id": "1fd47f40-81fc-4344-8948-06042a30254c",
   "metadata": {},
   "source": [
    "9. Write a Pandas program to convert a given Series to an array.\r\n"
   ]
  },
  {
   "cell_type": "code",
   "execution_count": 25,
   "id": "fc87997e-f74a-46e3-a4c6-5e7ee396c354",
   "metadata": {},
   "outputs": [
    {
     "name": "stdout",
     "output_type": "stream",
     "text": [
      "Series: \n",
      " 0    1\n",
      "1    2\n",
      "2    3\n",
      "3    4\n",
      "4    5\n",
      "dtype: int64\n",
      "Array:  [1 2 3 4 5]\n",
      "Type of array:  <class 'numpy.ndarray'>\n"
     ]
    }
   ],
   "source": [
    "series = pd.Series([1, 2, 3, 4, 5])\n",
    "print('Series: \\n', series)\n",
    "\n",
    "# series.values : This returns a ndarray created using series datas\n",
    "print('Array: ', series.values)\n",
    "print('Type of array: ', type(series.values))"
   ]
  },
  {
   "cell_type": "markdown",
   "id": "14ebbfcb-26de-476c-9fe2-4490f749118b",
   "metadata": {},
   "source": [
    "10. Write a Pandas program to convert Series of lists to one Series.\n"
   ]
  },
  {
   "cell_type": "code",
   "execution_count": 36,
   "id": "c578d669-95b4-4839-967b-91de77ce5f0d",
   "metadata": {},
   "outputs": [
    {
     "name": "stdout",
     "output_type": "stream",
     "text": [
      "Original Series: \n",
      " 0    [Red, Green, White]\n",
      "1           [Red, Black]\n",
      "2               [Yellow]\n",
      "dtype: object\n",
      "Series Generated: \n"
     ]
    },
    {
     "data": {
      "text/plain": [
       "0       Red\n",
       "1     Green\n",
       "2     White\n",
       "3       Red\n",
       "4     Black\n",
       "5    Yellow\n",
       "dtype: object"
      ]
     },
     "execution_count": 36,
     "metadata": {},
     "output_type": "execute_result"
    }
   ],
   "source": [
    "# lets create a series from series of lists\n",
    "series = pd.Series([\n",
    "    ['Red', 'Green', 'White'],\n",
    "    ['Red', 'Black'],\n",
    "    ['Yellow']])\n",
    "print('Original Series: \\n', series)\n",
    "\n",
    "# series.apply(pd.Series) : This converts each list element into a separate Pandas Series object with one row per element.\n",
    "# stack() : This is used stack one element per row.\n",
    "# reset_index(drop=True) : This recreates the indices from begining for each row\n",
    "\n",
    "print('Series Generated: ')\n",
    "series.apply(pd.Series).stack().reset_index(drop=True)"
   ]
  },
  {
   "cell_type": "markdown",
   "id": "79cbd390-499d-4e8b-8453-393d3d8e2682",
   "metadata": {},
   "source": [
    "11. Write a Pandas program to sort a given Series.\r\n"
   ]
  },
  {
   "cell_type": "code",
   "execution_count": null,
   "id": "7f7727aa-201c-4a95-b0e0-ad47eada84f5",
   "metadata": {},
   "outputs": [],
   "source": [
    "Sample Output:\n",
    "Original Data Series:\n",
    "0       100\n",
    "1       200\n",
    "2    python\n",
    "3    300.12\n",
    "4       400\n",
    "dtype: object\n",
    "0       100\n",
    "1       200\n",
    "3    300.12\n",
    "4       400\n",
    "2    python\n",
    "dtype: object"
   ]
  },
  {
   "cell_type": "code",
   "execution_count": 39,
   "id": "565c91d2-d91e-4fc1-8dbf-64abe277745f",
   "metadata": {},
   "outputs": [
    {
     "name": "stdout",
     "output_type": "stream",
     "text": [
      "Original Data Series: \n",
      " 0       100\n",
      "1       200\n",
      "2    python\n",
      "3    300.12\n",
      "4       400\n",
      "dtype: object\n",
      "0       100\n",
      "1       200\n",
      "3    300.12\n",
      "4       400\n",
      "2    python\n",
      "dtype: object\n"
     ]
    }
   ],
   "source": [
    "# lets create a series\n",
    "series = pd.Series(['100', '200', 'python', '300.12', '400'])\n",
    "print('Original Data Series: \\n', series)\n",
    "\n",
    "# series.sort_values() : This method is used to sort the series elements\n",
    "print(series.sort_values())"
   ]
  },
  {
   "cell_type": "markdown",
   "id": "a2b87a97-2899-400b-9cf6-5a945d064746",
   "metadata": {},
   "source": [
    "12. Write a Pandas program to add some data to an existing Series.\r\n"
   ]
  },
  {
   "cell_type": "code",
   "execution_count": null,
   "id": "5c52199a-f132-47b0-bf2d-111f67211e36",
   "metadata": {},
   "outputs": [],
   "source": [
    "Sample Output: \n",
    "Original Data Series:\n",
    "0       100\n",
    "1       200\n",
    "2    python\n",
    "3    300.12\n",
    "4       400\n",
    "dtype: object\n",
    "\n",
    "Data Series after adding some data:\n",
    "0       100\n",
    "1       200\n",
    "2    python\n",
    "3    300.12\n",
    "4       400\n",
    "5       500\n",
    "6       php\n",
    "dtype: object"
   ]
  },
  {
   "cell_type": "code",
   "execution_count": 46,
   "id": "f8c6b966-4d40-4db4-800b-10a8f89e8e62",
   "metadata": {},
   "outputs": [
    {
     "name": "stdout",
     "output_type": "stream",
     "text": [
      "Original Data Series: \n",
      " 0       100\n",
      "1       200\n",
      "2    python\n",
      "3    300.12\n",
      "4       400\n",
      "dtype: object\n",
      "Data Series after adding some data: \n",
      "0       100\n",
      "1       200\n",
      "2    python\n",
      "3    300.12\n",
      "4       400\n",
      "5       500\n",
      "6       php\n",
      "dtype: object\n"
     ]
    }
   ],
   "source": [
    "# lets create a series\n",
    "series = pd.Series(['100', '200', 'python', '300.12', '400'])\n",
    "print('Original Data Series: \\n', series)\n",
    "\n",
    "print('Data Series after adding some data: ')\n",
    "\n",
    "# pd.concat(series, data_series_to_add, ignore_index=True) : This method adds some data to existing series.\n",
    "print(pd.concat([series, pd.Series(['500', 'php'])], ignore_index=True))"
   ]
  },
  {
   "cell_type": "markdown",
   "id": "84a536b7-5b36-4e83-902e-7b2e626c3a5b",
   "metadata": {},
   "source": [
    "13. Write a Pandas program to create a subset of a given series based on value and condition.\r\n"
   ]
  },
  {
   "cell_type": "code",
   "execution_count": null,
   "id": "aeb88d3c-3575-41a3-a986-402630a947ab",
   "metadata": {},
   "outputs": [],
   "source": [
    "Sample Output:\n",
    "Original Data Series:\n",
    "0      0\n",
    "1      1\n",
    "2      2\n",
    "\n",
    "....\n",
    "\n",
    "9      9\n",
    "10    10\n",
    "dtype: int64\n",
    "\n",
    "Subset of the above Data Series:\n",
    "0    0\n",
    "1    1\n",
    "2    2\n",
    "3    3\n",
    "4    4\n",
    "5    5\n",
    "dtype: int64"
   ]
  },
  {
   "cell_type": "code",
   "execution_count": 50,
   "id": "9608dbb6-231e-4250-b78a-c8240cfffb9d",
   "metadata": {},
   "outputs": [
    {
     "name": "stdout",
     "output_type": "stream",
     "text": [
      "Original Data Series: \n",
      "0      0\n",
      "1      1\n",
      "2      2\n",
      "3      3\n",
      "4      4\n",
      "5      5\n",
      "6      6\n",
      "7      7\n",
      "8      8\n",
      "9      9\n",
      "10    10\n",
      "dtype: int32\n",
      "0    0\n",
      "1    1\n",
      "2    2\n",
      "3    3\n",
      "4    4\n",
      "5    5\n",
      "dtype: int32\n"
     ]
    }
   ],
   "source": [
    "series = pd.Series(np.arange(11))\n",
    "print('Original Data Series: ')\n",
    "print(series)\n",
    "\n",
    "# let the value be 6\n",
    "value = 6\n",
    "# applying condition, we can create Series\n",
    "print(series[series < 6])"
   ]
  },
  {
   "cell_type": "markdown",
   "id": "3a48dddc-de3d-4609-bb37-a9422d0299b1",
   "metadata": {},
   "source": [
    "14. Write a Pandas program to change the order of index of a given series.\r\n"
   ]
  },
  {
   "cell_type": "code",
   "execution_count": null,
   "id": "44a5514d-6972-4844-8c79-c3774e2eb09f",
   "metadata": {},
   "outputs": [],
   "source": [
    "Sample Output:\n",
    "Original Data Series:\n",
    "A    1\n",
    "B    2\n",
    "C    3\n",
    "D    4\n",
    "E    5\n",
    "dtype: int64\n",
    "Data Series after changing the order of index:\n",
    "B    2\n",
    "A    1\n",
    "C    3\n",
    "D    4\n",
    "E    5\n",
    "dtype: int64\n"
   ]
  },
  {
   "cell_type": "code",
   "execution_count": 56,
   "id": "d88a2611-30f8-4d82-b16f-bad6dd815429",
   "metadata": {},
   "outputs": [
    {
     "name": "stdout",
     "output_type": "stream",
     "text": [
      "Original Data Series:\n",
      "A    1\n",
      "B    2\n",
      "C    3\n",
      "D    4\n",
      "E    5\n",
      "dtype: int64\n",
      "Data Series after changing the order of index: \n",
      "B    2\n",
      "A    1\n",
      "C    3\n",
      "D    4\n",
      "E    5\n",
      "dtype: int64\n"
     ]
    }
   ],
   "source": [
    "series = pd.Series([1, 2, 3, 4, 5], index=['A', 'B', 'C', 'D', 'E'])\n",
    "print('Original Data Series:')\n",
    "print(series)\n",
    "\n",
    "# series.reindex(index=[]) : This method re changes the indices of a Series as specified.\n",
    "print('Data Series after changing the order of index: ')\n",
    "print(series.reindex(index=['B', 'A', 'C', 'D', 'E']))"
   ]
  },
  {
   "cell_type": "markdown",
   "id": "129a6da6-b9b3-4794-a04b-d4e8724420b8",
   "metadata": {},
   "source": [
    "15. Write a Pandas program to create the mean and standard deviation of the data of a given Series.\r\n"
   ]
  },
  {
   "cell_type": "code",
   "execution_count": 59,
   "id": "6923b5fb-7c95-44bf-853e-74414ed7c9fc",
   "metadata": {},
   "outputs": [
    {
     "name": "stdout",
     "output_type": "stream",
     "text": [
      "Original Series: \n",
      "0     1\n",
      "1     4\n",
      "2     6\n",
      "3     2\n",
      "4     8\n",
      "5     7\n",
      "6     9\n",
      "7     3\n",
      "8     5\n",
      "9    12\n",
      "dtype: int64\n",
      "Mean of the series:  5.7\n",
      "Std of the series:  3.4009802508492557\n"
     ]
    }
   ],
   "source": [
    "series = pd.Series([1, 4, 6, 2, 8, 7, 9, 3, 5, 12])\n",
    "print('Original Series: ')\n",
    "print(series)\n",
    "\n",
    "# series.mean() : This method returns the mean of the series\n",
    "print('Mean of the series: ', series.mean())\n",
    "\n",
    "# series.std() : This method returns the standard deviation of the series\n",
    "print('Std of the series: ', series.std())"
   ]
  },
  {
   "cell_type": "markdown",
   "id": "b7332e96-2023-4775-86e8-d9a15174007f",
   "metadata": {},
   "source": [
    "16. Write a Pandas program to get the items of a given series not present in another given series.\r\n"
   ]
  },
  {
   "cell_type": "code",
   "execution_count": 67,
   "id": "70afdfcd-c881-4f34-adee-86e31022ab85",
   "metadata": {},
   "outputs": [
    {
     "name": "stdout",
     "output_type": "stream",
     "text": [
      "Series1: \n",
      " 0    1\n",
      "1    2\n",
      "2    3\n",
      "3    4\n",
      "4    5\n",
      "5    6\n",
      "6    7\n",
      "dtype: int64\n",
      "Series2: \n",
      " 0    2\n",
      "1    4\n",
      "2    6\n",
      "3    8\n",
      "dtype: int64\n",
      "Series1 items that are not present in Series2: \n",
      " 1    2\n",
      "3    4\n",
      "5    6\n",
      "dtype: int64\n"
     ]
    }
   ],
   "source": [
    "series1 = pd.Series([1, 2, 3, 4, 5, 6, 7])\n",
    "print('Series1: \\n', series1)\n",
    "series2 = pd.Series([2, 4, 6, 8])\n",
    "print('Series2: \\n', series2)\n",
    "\n",
    "# series1[~series1.isin(series2)] : This statement returns the elements of series1 that are not present in series2.\n",
    "# series1.isin(series2) : This method returns the true if item of series1 is found in series2 else returns false.\n",
    "# '~' : This is the not operator\n",
    "print('Series1 items that are not present in Series2: \\n', series1[series1.isin(series2)])\n"
   ]
  },
  {
   "cell_type": "markdown",
   "id": "6d3ee80c-5c1e-49e4-8d5f-d8ef74b070ed",
   "metadata": {},
   "source": [
    "17. Write a Pandas program to get the items which are not common of two given series.\r\n"
   ]
  },
  {
   "cell_type": "code",
   "execution_count": 68,
   "id": "28a197f8-f835-4564-9e3b-7dab7f4c92d7",
   "metadata": {},
   "outputs": [
    {
     "name": "stdout",
     "output_type": "stream",
     "text": [
      "Series1: \n",
      " 0    1\n",
      "1    2\n",
      "2    3\n",
      "3    4\n",
      "4    5\n",
      "5    6\n",
      "6    7\n",
      "dtype: int64\n",
      "Series2: \n",
      " 0     2\n",
      "1     4\n",
      "2     6\n",
      "3     8\n",
      "4     9\n",
      "5     5\n",
      "6    10\n",
      "dtype: int64\n",
      "Not Common items in Series: \n",
      "0     1\n",
      "2     3\n",
      "6     7\n",
      "7     8\n",
      "8     9\n",
      "9    10\n",
      "dtype: int64\n"
     ]
    }
   ],
   "source": [
    "series1 = pd.Series([1, 2, 3, 4, 5, 6, 7])\n",
    "print('Series1: \\n', series1)\n",
    "series2 = pd.Series([2, 4, 6, 8, 9, 5, 10])\n",
    "print('Series2: \\n', series2)\n",
    "\n",
    "# series1[~series1.isin(series2)] : This statement returns the elements of series1 that are not present in series2.\n",
    "# series1.isin(series2) : This method returns the true if item of series1 is found in series2 else returns false.\n",
    "# '~' : This is the not operator\n",
    "\n",
    "# the below statement creates a series of all element from both the series....\n",
    "series3 = pd.Series(np.union1d(series1, series2))\n",
    "# the below statement returns a series of common elements from both the series....\n",
    "series4 = pd.Series(np.intersect1d(series1, series2))\n",
    "\n",
    "print('Not Common items in Series: ')\n",
    "print(series3[~series3.isin(series4)])"
   ]
  },
  {
   "cell_type": "markdown",
   "id": "cfab6e0f-71a7-42cb-b360-a955eba7cd74",
   "metadata": {},
   "source": [
    "18. Write a Pandas program to compute the minimum, 25th percentile, median, 75th, and maximum of a given series.\n"
   ]
  },
  {
   "cell_type": "code",
   "execution_count": 4,
   "id": "4eb8ec1f-fbea-4040-99e6-9e23a3d947b0",
   "metadata": {},
   "outputs": [
    {
     "name": "stdout",
     "output_type": "stream",
     "text": [
      "Series: \n",
      " 0    16\n",
      "1    18\n",
      "2    16\n",
      "3    15\n",
      "4    20\n",
      "5    21\n",
      "6    17\n",
      "7    18\n",
      "8    20\n",
      "9    12\n",
      "dtype: int32\n",
      "Minimum value in the Series:  12\n",
      "25th Percentile of Series:  16.0\n",
      "Median value in the Series:  17.5\n",
      "25th Percentile of Series:  19.5\n",
      "Maximum value in the series:  21\n"
     ]
    }
   ],
   "source": [
    "series = pd.Series(np.random.randint(12, 22, 10))\n",
    "print('Series: \\n', series)\n",
    "\n",
    "# series.min() : This method returns the minimum value in the series.\n",
    "print('Minimum value in the Series: ', series.min())\n",
    "\n",
    "# series.percentile(25) : This method returns the 25th percentile in the series.\n",
    "print('25th Percentile of Series: ', np.percentile(series, 25))\n",
    "\n",
    "# series.median() : This method returns the median value in the series.\n",
    "print('Median value in the Series: ', series.median())\n",
    "\n",
    "# \n",
    "print('25th Percentile of Series: ', np.percentile(series, 75))\n",
    "\n",
    "# series.max() : This function returns the maximum value in the series.\n",
    "print('Maximum value in the series: ', series.max())"
   ]
  },
  {
   "cell_type": "markdown",
   "id": "24d70c44-261a-45e5-9b8b-376efc03f080",
   "metadata": {},
   "source": [
    "19. Write a Pandas program to calculate the frequency counts of each unique value of a given series.\r\n"
   ]
  },
  {
   "cell_type": "code",
   "execution_count": 9,
   "id": "df959a3c-472e-4ff9-b81b-c8ce838c5aa6",
   "metadata": {},
   "outputs": [
    {
     "name": "stdout",
     "output_type": "stream",
     "text": [
      "Series: \n",
      " 0     1\n",
      "1     1\n",
      "2     2\n",
      "3     2\n",
      "4     2\n",
      "5     3\n",
      "6     3\n",
      "7     3\n",
      "8     3\n",
      "9     4\n",
      "10    5\n",
      "11    7\n",
      "12    7\n",
      "13    7\n",
      "dtype: int64\n",
      "frequency counts of each unique value: \n"
     ]
    },
    {
     "data": {
      "text/plain": [
       "3    4\n",
       "2    3\n",
       "7    3\n",
       "1    2\n",
       "4    1\n",
       "5    1\n",
       "Name: count, dtype: int64"
      ]
     },
     "execution_count": 9,
     "metadata": {},
     "output_type": "execute_result"
    }
   ],
   "source": [
    "series = pd.Series([1, 1, 2, 2, 2, 3, 3, 3, 3, 4, 5, 7, 7, 7])\n",
    "print('Series: \\n', series)\n",
    "\n",
    "print('frequency counts of each unique value: ')\n",
    "series.value_counts()"
   ]
  },
  {
   "cell_type": "markdown",
   "id": "1c892b77-0a12-42dd-aee4-263e2eb67f2a",
   "metadata": {},
   "source": [
    "20. Write a Pandas program to display most frequent value in a given series and replace everything else as 'Other' in the series."
   ]
  },
  {
   "cell_type": "code",
   "execution_count": 10,
   "id": "257597e8-a740-4340-aa3a-9876bd5713a9",
   "metadata": {},
   "outputs": [
    {
     "name": "stdout",
     "output_type": "stream",
     "text": [
      "Series: \n",
      " 0     1\n",
      "1     1\n",
      "2     2\n",
      "3     2\n",
      "4     2\n",
      "5     3\n",
      "6     3\n",
      "7     3\n",
      "8     3\n",
      "9     4\n",
      "10    5\n",
      "11    7\n",
      "12    7\n",
      "13    7\n",
      "dtype: object\n",
      "Most frequency value: \n",
      "0     Other\n",
      "1     Other\n",
      "2     Other\n",
      "3     Other\n",
      "4     Other\n",
      "5         3\n",
      "6         3\n",
      "7         3\n",
      "8         3\n",
      "9     Other\n",
      "10    Other\n",
      "11    Other\n",
      "12    Other\n",
      "13    Other\n",
      "dtype: object\n"
     ]
    }
   ],
   "source": [
    "series = pd.Series(['1', '1', '2', '2', '2', '3', '3', '3', '3', '4', '5', '7', '7', '7'])\n",
    "print('Series: \\n', series)\n",
    "\n",
    "print('Most frequency value: ')\n",
    "result = series[~series.isin(series.value_counts().index[:1])] = 'Other'\n",
    "print(series)"
   ]
  },
  {
   "cell_type": "markdown",
   "id": "e4245631-a1da-458e-a507-bfc2096f5725",
   "metadata": {},
   "source": [
    "21. Write a Pandas program to find the positions of numbers that are multiples of 5 of a given series.\r\n"
   ]
  },
  {
   "cell_type": "code",
   "execution_count": 12,
   "id": "a3b56ea2-471b-455b-8d77-0ea3e11a0770",
   "metadata": {},
   "outputs": [
    {
     "name": "stdout",
     "output_type": "stream",
     "text": [
      "Series: \n",
      " 0    21\n",
      "1    14\n",
      "2    22\n",
      "3    20\n",
      "4    18\n",
      "5    15\n",
      "6    13\n",
      "7    13\n",
      "8    19\n",
      "9    12\n",
      "dtype: int32\n",
      "Positions of nums that are multiples of 5:  Index([3, 5], dtype='int64')\n"
     ]
    }
   ],
   "source": [
    "series = pd.Series(np.random.randint(12, 23, 10))\n",
    "print('Series: \\n', series)\n",
    "\n",
    "print('Positions of nums that are multiples of 5: ', (series[series % 5 == 0]).index)"
   ]
  },
  {
   "cell_type": "markdown",
   "id": "63717996-c3e3-40ba-8a22-31ce60baeffe",
   "metadata": {},
   "source": [
    "22. Write a Pandas program to extract items at given positions of a given series.\r\n"
   ]
  },
  {
   "cell_type": "code",
   "execution_count": 13,
   "id": "fc5b2865-b7f5-4bdd-8aa0-1ee651e22e29",
   "metadata": {},
   "outputs": [
    {
     "name": "stdout",
     "output_type": "stream",
     "text": [
      "Series: \n",
      " 0    21\n",
      "1    15\n",
      "2    14\n",
      "3    18\n",
      "4    14\n",
      "5    21\n",
      "6    21\n",
      "7    14\n",
      "8    19\n",
      "9    19\n",
      "dtype: int32\n",
      "Elements at given Positions: \n",
      " 3    18\n",
      "5    21\n",
      "8    19\n",
      "dtype: int32\n"
     ]
    }
   ],
   "source": [
    "series = pd.Series(np.random.randint(12, 23, 10))\n",
    "print('Series: \\n', series)\n",
    "\n",
    "positions = [3, 5, 8]\n",
    "# series.take(indices) : This method returns the item present at the indices mentioned.\n",
    "\n",
    "print('Elements at given Positions: \\n', series.take(positions))"
   ]
  },
  {
   "cell_type": "markdown",
   "id": "fa5030fa-b27f-4be3-8d25-ebf6659fdb00",
   "metadata": {},
   "source": [
    "23. Write a Pandas program convert the first and last character of each word to upper case in each word of a given series.\n"
   ]
  },
  {
   "cell_type": "code",
   "execution_count": 30,
   "id": "ef2b7872-cc57-4e06-9b9c-94b84b671ee2",
   "metadata": {},
   "outputs": [
    {
     "name": "stdout",
     "output_type": "stream",
     "text": [
      "Series: \n",
      " 0    mad\n",
      "1    bad\n",
      "2    sad\n",
      "3    dad\n",
      "4    had\n",
      "5    fed\n",
      "dtype: object\n",
      "0    MaD\n",
      "1    BaD\n",
      "2    SaD\n",
      "3    DaD\n",
      "4    HaD\n",
      "5    FeD\n",
      "dtype: object\n"
     ]
    }
   ],
   "source": [
    "series = pd.Series(['mad', 'bad', 'sad', 'dad', 'had', 'fed'])\n",
    "print('Series: \\n', series)\n",
    "\n",
    "# map() : it is a python function.\n",
    "changed = series.map(lambda x: x[0].upper() + x[1:-1] + x[-1].upper())\n",
    "print(changed)"
   ]
  },
  {
   "cell_type": "markdown",
   "id": "dd60ddf2-7e77-4b98-b87f-89d6a494cbd3",
   "metadata": {},
   "source": [
    "24. Write a Pandas program to calculate the number of characters in each word in a given series.\n"
   ]
  },
  {
   "cell_type": "code",
   "execution_count": 31,
   "id": "2573f667-5d33-4fe6-b6a6-89a31eb58c61",
   "metadata": {},
   "outputs": [
    {
     "name": "stdout",
     "output_type": "stream",
     "text": [
      "Series: \n",
      " 0    mad\n",
      "1    bad\n",
      "2    sad\n",
      "3    dad\n",
      "4    had\n",
      "5    fed\n",
      "dtype: object\n",
      "Num of chars in each word in a series: \n",
      " 0    3\n",
      "1    3\n",
      "2    3\n",
      "3    3\n",
      "4    3\n",
      "5    3\n",
      "dtype: int64\n"
     ]
    }
   ],
   "source": [
    "series = pd.Series(['mad', 'bad', 'sad', 'dad', 'had', 'fed'])\n",
    "print('Series: \\n', series)\n",
    "\n",
    "chars = series.map(lambda x: len(x))\n",
    "print('Num of chars in each word in a series: \\n', chars)"
   ]
  },
  {
   "cell_type": "markdown",
   "id": "2dbefc68-4388-4c40-9382-c55564a7538f",
   "metadata": {},
   "source": [
    "25. Write a Pandas program to compute difference of differences between consecutive numbers of a given series.\n"
   ]
  },
  {
   "cell_type": "code",
   "execution_count": 33,
   "id": "1ce9d9f8-d246-4b3d-a1d1-af164f39818b",
   "metadata": {},
   "outputs": [
    {
     "name": "stdout",
     "output_type": "stream",
     "text": [
      "Series: \n",
      " 0     1\n",
      "1     3\n",
      "2     5\n",
      "3     8\n",
      "4    13\n",
      "5    14\n",
      "6    22\n",
      "dtype: int64\n",
      "Differences: \n",
      " 0    NaN\n",
      "1    2.0\n",
      "2    2.0\n",
      "3    3.0\n",
      "4    5.0\n",
      "5    1.0\n",
      "6    8.0\n",
      "dtype: float64\n",
      "Difference of Differences: \n",
      " 0    NaN\n",
      "1    NaN\n",
      "2    0.0\n",
      "3    1.0\n",
      "4    2.0\n",
      "5   -4.0\n",
      "6    7.0\n",
      "dtype: float64\n"
     ]
    }
   ],
   "source": [
    "series = pd.Series([1,3,5,8,13,14,22])\n",
    "print('Series: \\n', series)\n",
    "\n",
    "# series.diff() : This method returns the differences between two consecutive numbers of the series.\n",
    "diff = series.diff()\n",
    "print('Differences: \\n', diff)\n",
    "\n",
    "print('Difference of Differences: \\n', diff.diff())"
   ]
  },
  {
   "cell_type": "markdown",
   "id": "d20797c2-b063-4bd4-b4a3-948caf2eff47",
   "metadata": {},
   "source": [
    "26.Write a Pandas program to filter words from a given series that contain atleast two vowels.\r\n"
   ]
  },
  {
   "cell_type": "code",
   "execution_count": null,
   "id": "adf3a3ab-84c6-4b66-9a37-238e838625ca",
   "metadata": {},
   "outputs": [],
   "source": [
    "from collections import Counter\n",
    "series = pd.Series(['Red', 'Green', 'Orange', 'Pink', 'Yellow', 'White'])\n",
    "print('Series: \\n', series)\n",
    "\n",
    "# the below statement filter words which contain atleast two vowels.\n",
    "series[series.map(lambda c: sum([Counter(c.lower()).get(i, 0) for i in list('aeiou')]) >= 2)]"
   ]
  },
  {
   "cell_type": "markdown",
   "id": "292ff45c-ca62-4300-a1f6-1df4d1a1c2dd",
   "metadata": {},
   "source": [
    "27. Write a Pandas program to replace missing white spaces in a given string with the least frequent character.\n"
   ]
  },
  {
   "cell_type": "code",
   "execution_count": 57,
   "id": "eb6c1a93-0d89-4fd0-b7df-6395fc216ef3",
   "metadata": {},
   "outputs": [
    {
     "name": "stdout",
     "output_type": "stream",
     "text": [
      "Original String:  madhav believes in hardwork.\n",
      "Series: \n",
      " 0    a\n",
      "1    a\n",
      "2    a\n",
      "3    d\n",
      "4    m\n",
      "5    m\n",
      "dtype: object\n",
      "madhavdbelievesdindhardwork.\n"
     ]
    }
   ],
   "source": [
    "string = 'madhav believes in hardwork.'\n",
    "series = pd.Series(['a', 'a', 'a', 'd', 'm', 'm'])\n",
    "print('Original String: ', string)\n",
    "print('Series: \\n', series)\n",
    "\n",
    "# the below statement extract the least occuring string from the series.\n",
    "least_freq_count = series.value_counts().index[-1]\n",
    "\n",
    "print(''.join(string.replace(' ', least_freq_count)))"
   ]
  },
  {
   "cell_type": "markdown",
   "id": "69102773-1877-445e-b169-4aa56c4b46f7",
   "metadata": {},
   "source": [
    "28. Write a Pandas program to convert given series into a dataframe with its index as another column on the dataframe.\r\n"
   ]
  },
  {
   "cell_type": "code",
   "execution_count": 62,
   "id": "096f6729-65d6-4af1-a7f7-5df74bd6d9be",
   "metadata": {},
   "outputs": [
    {
     "name": "stdout",
     "output_type": "stream",
     "text": [
      "Series: \n",
      " a    1\n",
      "b    2\n",
      "c    3\n",
      "d    4\n",
      "e    5\n",
      "dtype: int64\n",
      "DataFrame: \n",
      "   index  0\n",
      "0     a  1\n",
      "1     b  2\n",
      "2     c  3\n",
      "3     d  4\n",
      "4     e  5\n"
     ]
    }
   ],
   "source": [
    "series = pd.Series([1, 2, 3, 4, 5], index=['a', 'b', 'c', 'd', 'e'])\n",
    "print('Series: \\n', series)\n",
    "\n",
    "# df.reset_index() : this method recreates the indices.\n",
    "df = pd.DataFrame(series).reset_index()\n",
    "print('DataFrame: \\n', df)"
   ]
  },
  {
   "cell_type": "markdown",
   "id": "db957146-9176-4052-86b8-f3461e9b877f",
   "metadata": {},
   "source": [
    "29. Write a Pandas program to find the index of the first occurrence of the smallest and largest value of a given series."
   ]
  },
  {
   "cell_type": "code",
   "execution_count": 69,
   "id": "920eb0bd-a578-48f3-b1e0-0539e49cf53f",
   "metadata": {},
   "outputs": [
    {
     "name": "stdout",
     "output_type": "stream",
     "text": [
      "Series: \n",
      " 0    21\n",
      "1    22\n",
      "2    21\n",
      "3    19\n",
      "4    16\n",
      "5    21\n",
      "6    17\n",
      "7    19\n",
      "8    14\n",
      "9    19\n",
      "dtype: int32\n",
      "Smallest value:  14\n",
      "Largest value:  22\n",
      "First Occurance of Smallest value:  8\n",
      "First occurance of Largest value:  1\n"
     ]
    }
   ],
   "source": [
    "series = pd.Series(np.random.randint(12, 23, 10))\n",
    "print('Series: \\n', series)\n",
    "\n",
    "# series.min() : This method returns the minimum value in the series\n",
    "print('Smallest value: ', series.min())\n",
    "\n",
    "# series.max() : This method returns the maximum value in the series\n",
    "print('Largest value: ', series.max())\n",
    "\n",
    "print('First Occurance of Smallest value: ', series[series == series.min()].index[0])\n",
    "\n",
    "print('First occurance of Largest value: ', series[series == series.max()].index[0])"
   ]
  }
 ],
 "metadata": {
  "kernelspec": {
   "display_name": "Python 3 (ipykernel)",
   "language": "python",
   "name": "python3"
  },
  "language_info": {
   "codemirror_mode": {
    "name": "ipython",
    "version": 3
   },
   "file_extension": ".py",
   "mimetype": "text/x-python",
   "name": "python",
   "nbconvert_exporter": "python",
   "pygments_lexer": "ipython3",
   "version": "3.11.7"
  }
 },
 "nbformat": 4,
 "nbformat_minor": 5
}
